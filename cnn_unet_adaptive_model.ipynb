{
 "cells": [
  {
   "cell_type": "code",
   "execution_count": 1,
   "metadata": {
    "jupyter": {
     "outputs_hidden": false
    },
    "pycharm": {
     "is_executing": false,
     "name": "#%%\n"
    }
   },
   "outputs": [
    {
     "name": "stderr",
     "output_type": "stream",
     "text": [
      "Using TensorFlow backend.\n"
     ]
    }
   ],
   "source": [
    "from keras.utils import HDF5Matrix\n",
    "from keras.preprocessing.image import ImageDataGenerator\n",
    "from keras.models import Model\n",
    "from keras.utils import to_categorical\n",
    "from keras import backend as K\n",
    "import keras.callbacks as cb\n",
    "from keras.models import load_model\n",
    "from keras.layers import Input, Dense, BatchNormalization, Dropout, Conv2D, MaxPool2D, Flatten, LeakyReLU, Concatenate, GlobalAveragePooling2D, UpSampling2D\n",
    "from IPython.display import Image\n",
    "\n",
    "import keras\n",
    "import tensorflow\n",
    "import tensorflow.compat.v1 as tf\n",
    "import numpy as np\n",
    "import pandas as pd\n",
    "import imageio\n",
    "import cv2\n",
    "import pprint\n",
    "\n",
    "import src.model as my_model\n",
    "import src.pcam_loader as data\n",
    "import src.adaptive_model as am"
   ]
  },
  {
   "cell_type": "markdown",
   "metadata": {
    "pycharm": {
     "name": "#%% md\n"
    }
   },
   "source": [
    "# Show if tensorflow can run with GPU\n",
    "# Run tensorflow keras on multiple core"
   ]
  },
  {
   "cell_type": "code",
   "execution_count": 2,
   "metadata": {
    "pycharm": {
     "is_executing": false,
     "name": "#%%\n"
    }
   },
   "outputs": [
    {
     "name": "stdout",
     "output_type": "stream",
     "text": [
      "[name: \"/device:CPU:0\"\n",
      "device_type: \"CPU\"\n",
      "memory_limit: 268435456\n",
      "locality {\n",
      "}\n",
      "incarnation: 739752586173594237\n",
      ", name: \"/device:GPU:0\"\n",
      "device_type: \"GPU\"\n",
      "memory_limit: 4854028697\n",
      "locality {\n",
      "  bus_id: 1\n",
      "  links {\n",
      "  }\n",
      "}\n",
      "incarnation: 17799861541477197685\n",
      "physical_device_desc: \"device: 0, name: GeForce GTX 1660 Ti, pci bus id: 0000:26:00.0, compute capability: 7.5\"\n",
      "]\n",
      "Device mapping:\n",
      "/job:localhost/replica:0/task:0/device:GPU:0 -> device: 0, name: GeForce GTX 1660 Ti, pci bus id: 0000:26:00.0, compute capability: 7.5\n",
      "\n"
     ]
    }
   ],
   "source": [
    "from tensorflow.python.client import device_lib\n",
    "print(device_lib.list_local_devices())\n",
    "\n",
    "# config = tf.ConfigProto(device_count={\"CPU\": 8})\n",
    "# tensorflow.compat.v1.keras.backend.set_session(tf.Session(config=config))\n",
    "sess = tf.Session(config=tf.ConfigProto(log_device_placement=True))\n"
   ]
  },
  {
   "cell_type": "markdown",
   "metadata": {
    "pycharm": {
     "name": "#%% md\n"
    }
   },
   "source": [
    "## Load pcam data"
   ]
  },
  {
   "cell_type": "code",
   "execution_count": 3,
   "metadata": {
    "pycharm": {
     "is_executing": false,
     "name": "#%%\n"
    }
   },
   "outputs": [
    {
     "name": "stderr",
     "output_type": "stream",
     "text": [
      "C:\\Users\\matho\\Anaconda3\\lib\\site-packages\\keras\\utils\\io_utils.py:60: H5pyDeprecationWarning: The default file mode will change to 'r' (read-only) in h5py 3.0. To suppress this warning, pass the mode you need to h5py.File(), or set the global default h5.get_config().default_file_mode, or set the environment variable H5PY_DEFAULT_READONLY=1. Available modes are: 'r', 'r+', 'w', 'w-'/'x', 'a'. See the docs for details.\n",
      "  f = h5py.File(datapath)\n"
     ]
    }
   ],
   "source": [
    "# Load data from /User/Username/.keras/datasets/pcam\n",
    "dataset = data.load_data()\n",
    "x_train, y_train, meta_train =  dataset[0]\n",
    "x_valid, y_valid, meta_valid =  dataset[1]\n",
    "x_test, y_test, meta_test =  dataset[2]"
   ]
  },
  {
   "cell_type": "code",
   "execution_count": 4,
   "metadata": {
    "pycharm": {
     "is_executing": false,
     "name": "#%%\n"
    }
   },
   "outputs": [],
   "source": [
    "y_train = np.array(y_train[:])\n",
    "y_train = y_train.reshape(-1, 1)\n",
    "y_valid = np.array(y_valid[:])\n",
    "y_valid = y_valid.reshape(-1, 1)\n",
    "y_test = np.array(y_test[:])\n",
    "y_test = y_test.reshape(-1, 1)"
   ]
  },
  {
   "cell_type": "code",
   "execution_count": 5,
   "metadata": {
    "pycharm": {
     "is_executing": false,
     "name": "#%%\n"
    }
   },
   "outputs": [
    {
     "data": {
      "image/png": "[encoded data removed]",
      "text/plain": [
       "<IPython.core.display.Image object>"
      ]
     },
     "execution_count": 5,
     "metadata": {},
     "output_type": "execute_result"
    }
   ],
   "source": [
    "# Save data into png format and visualize image\n",
    "# imageio.imwrite('image.png', )\n",
    "Image(filename='./data/image.png') "
   ]
  },
  {
   "cell_type": "code",
   "execution_count": 6,
   "metadata": {
    "pycharm": {
     "is_executing": false,
     "name": "#%%\n"
    }
   },
   "outputs": [
    {
     "name": "stdout",
     "output_type": "stream",
     "text": [
      "   Unnamed: 0  coord_y  coord_x  tumor_patch  center_tumor_patch  \\\n",
      "0           0    63104    43648        False               False   \n",
      "1           1   148544    74048         True                True   \n",
      "2           2    64192    78912         True                True   \n",
      "3           3    98048    72128         True                True   \n",
      "4           4    27264    50688        False               False   \n",
      "\n",
      "                           wsi  \n",
      "0   camelyon16_train_tumor_104  \n",
      "1   camelyon16_train_tumor_003  \n",
      "2   camelyon16_train_tumor_089  \n",
      "3   camelyon16_train_tumor_004  \n",
      "4  camelyon16_train_normal_118   \n",
      "\n",
      "<class 'pandas.core.frame.DataFrame'>\n",
      "RangeIndex: 262144 entries, 0 to 262143\n",
      "Data columns (total 6 columns):\n",
      " #   Column              Non-Null Count   Dtype \n",
      "---  ------              --------------   ----- \n",
      " 0   Unnamed: 0          262144 non-null  int64 \n",
      " 1   coord_y             262144 non-null  int64 \n",
      " 2   coord_x             262144 non-null  int64 \n",
      " 3   tumor_patch         262144 non-null  bool  \n",
      " 4   center_tumor_patch  262144 non-null  bool  \n",
      " 5   wsi                 262144 non-null  object\n",
      "dtypes: bool(2), int64(3), object(1)\n",
      "memory usage: 8.5+ MB\n",
      "None\n",
      "\n",
      "Shape of train (262144, 96, 96, 3) 262144 (262144, 1)\n",
      "Shape of valid (32768, 96, 96, 3) 32768 (32768, 1)\n",
      "Shape of test (32768, 96, 96, 3) 32768 (32768, 1)\n"
     ]
    }
   ],
   "source": [
    "print(meta_train.head(5), '\\n')\n",
    "print(meta_train.info())\n",
    "\n",
    "# Shape of train, valid and test input are the same, don't need to preprocess\n",
    "print('\\n' + 'Shape of train', x_train.shape,  len(y_train), y_train.shape)\n",
    "print('Shape of valid', x_valid.shape,  len(y_valid), y_valid.shape)\n",
    "print('Shape of test', x_test.shape, len(y_test), y_test.shape)\n"
   ]
  },
  {
   "cell_type": "markdown",
   "metadata": {
    "pycharm": {
     "name": "#%% md\n"
    }
   },
   "source": [
    "# Build model"
   ]
  },
  {
   "cell_type": "code",
   "execution_count": 7,
   "metadata": {
    "pycharm": {
     "is_executing": false,
     "name": "#%%\n"
    }
   },
   "outputs": [],
   "source": [
    "batch_size = 64\n",
    "epochs = 10\n",
    "num_classes = 2\n",
    "shape = (96, 96, 3)"
   ]
  },
  {
   "cell_type": "markdown",
   "metadata": {
    "pycharm": {
     "is_executing": false,
     "name": "#%% md\n"
    }
   },
   "source": [
    "## Backpropagation"
   ]
  },
  {
   "cell_type": "code",
   "execution_count": null,
   "metadata": {},
   "outputs": [],
   "source": [
    "# Input layer with shape of data\n",
    "input_layer = am.input_layer(shape)\n",
    "model_name = 'adaptive_backpropagation764.h5'\n",
    "\n",
    "# layers = am.unet_layer(input_layer, 7, 16) \n",
    "# layers = am.unet_layer(input_layer, 5, 16) \n",
    "# layers = am.unet_layer(input_layer, 3, 16) \n",
    "\n",
    "# layers = am.unet_layer(input_layer, 7, 32)\n",
    "# Test loss: 0.4615268358029425 Accuracy: 0.8088379 Precision: 0.8088379 Recall: 0.8088379 TruePositives: 26504.0 F1_score 0.8088378406250031\n",
    "# layers = am.unet_layer(input_layer, 5, 32) \n",
    "# Test loss: 0.5212567583439522 Accuracy: 0.78674316 Precision: 0.78674316 Recall: 0.78674316 TruePositives: 25780.0 F1_score 0.7867430951221921 \n",
    "# layers = am.unet_layer(input_layer, 3, 32)\n",
    "# Test loss: 0.43483126438513864 Accuracy: 0.8204346 Precision: 0.8204346 Recall: 0.8204346 TruePositives: 26884.0 F1_score 0.8204345021499818 \n",
    "\n",
    "layers = am.unet_layer(input_layer, 7, 64) \n",
    "# layers = am.unet_layer(input_layer, 5, 64) \n",
    "# layers = am.unet_layer(input_layer, 3, 64) \n",
    "\n",
    "# Use Unet architecture as main model\n",
    "output_layer = am.unet_model(layers)\n",
    "\n",
    "# Define model \n",
    "model = am.define_model(input_layer, output_layer)\n",
    "\n",
    "# [test 78,8% | test 80,8% val_accuracy: 80% valid 96,36% | ]"
   ]
  },
  {
   "cell_type": "markdown",
   "metadata": {},
   "source": [
    "## Autoencoder"
   ]
  },
  {
   "cell_type": "code",
   "execution_count": 8,
   "metadata": {},
   "outputs": [],
   "source": [
    "# Input layer with shape of data\n",
    "input_layer = am.input_layer(shape)\n",
    "model_name = 'adaptive_autoencoder332.h5'\n",
    "\n",
    "# layers = am.encoder_layer(input_layer, 7, 16) \n",
    "# layers = am.encoder_layer(input_layer, 5, 16) \n",
    "# layers = am.encoder_layer(input_layer, 3, 16) \n",
    "\n",
    "# layers = am.encoder_layer(input_layer, 7, 32) \n",
    "# Test loss: 0.5600800448955852 Accuracy: 0.73861694 Precision: 0.73861694 Recall: 0.73861694 TruePositives: 24203.0 F1_score 0.7386169021856822\n",
    "# layers = am.encoder_layer(input_layer, 5, 32) \n",
    "# Test loss: 0.6415949882357381 Accuracy: 0.7125244140625 Precision: 0.7125244140625 Recall: 0.7125244140625 TruePositives: 2600915.25 F1_score 0.7125243640625035 \n",
    "# layers = am.encoder_layer(input_layer, 3, 32)\n",
    "# Test loss: 1.0000710187887307 Accuracy: 0.70782470703125 Precision: 0.70782470703125 Recall: 0.70782470703125 TruePositives: 2728194.75 F1_score 0.7078246570312535\n",
    "\n",
    "# layers = am.encoder_layer(input_layer, 7, 64) \n",
    "# layers = am.encoder_layer(input_layer, 5, 64) \n",
    "# layers = am.encoder_layer(input_layer, 3, 64) \n",
    "\n",
    "# Use Unet architecture as main model\n",
    "output_layer = am.unet_model(layers)\n",
    "\n",
    "# Define model \n",
    "model = am.define_model(input_layer, output_layer)\n",
    "\n",
    "# [test 67% valid 96,97% | test 80,524% val_accuracy 86,5% accuracy 95,84% | ]"
   ]
  },
  {
   "cell_type": "markdown",
   "metadata": {},
   "source": [
    "## Gabor kernels"
   ]
  },
  {
   "cell_type": "code",
   "execution_count": null,
   "metadata": {},
   "outputs": [],
   "source": [
    "# Input layer with shape of data\n",
    "input_layer = am.input_layer(shape)\n",
    "model_name = 'adaptive_gabor964.h5'\n",
    "\n",
    "# layers = am.gabor_layer(input_layer, 9, 16) \n",
    "# layers = am.gabor_layer(input_layer, 7, 16) \n",
    "# layers = am.gabor_layer(input_layer, 5, 16) \n",
    "\n",
    "# layers = am.gabor_layer(input_layer, 9, 32) \n",
    "# Test loss: 0.5573686596835614 Accuracy: 0.7546997 Precision: 0.7546997 Recall: 0.7546997 TruePositives: 24730.0 F1_score 0.7546996915841093\n",
    "# layers = am.gabor_layer(input_layer, 7, 32)\n",
    "# Test loss: 0.6931897189933807 Accuracy: 0.5002136 Precision: 0.5002136 Recall: 0.5002136 TruePositives: 16391.0 F1_score 0.5002136009746224 \n",
    "# layers = am.gabor_layer(input_layer, 5, 32)\n",
    "# Test loss: 0.5465048969927011 Accuracy: 0.77923584 Precision: 0.77923584 Recall: 0.77923584 TruePositives: 25534.0 F1_score 0.7792357850630567 \n",
    "\n",
    "# layers = am.gabor_layer(input_layer, 9, 64) \n",
    "# layers = am.gabor_layer(input_layer, 7, 64) \n",
    "# layers = am.gabor_layer(input_layer, 5, 64) \n",
    "\n",
    "# Use Unet architecture as main model\n",
    "output_layer = am.unet_model(layers)\n",
    "\n",
    "# Define model \n",
    "model = am.define_model(input_layer, output_layer)\n",
    "\n",
    "# Add filters from gabor function\n",
    "model.layers[1].set_weights(am.gabor_filter(model))"
   ]
  },
  {
   "cell_type": "markdown",
   "metadata": {},
   "source": [
    "## Transfer learning"
   ]
  },
  {
   "cell_type": "code",
   "execution_count": null,
   "metadata": {},
   "outputs": [],
   "source": [
    "from keras.applications import MobileNet\n",
    "model_name = 'adaptive_transfer.h5'\n",
    "\n",
    "# Use ImageNet as first 'layers'\n",
    "base_model=MobileNet(weights='imagenet',include_top=False) \n",
    "layer = base_model.output\n",
    "\n",
    "# Use Unet architecture as main model\n",
    "output_layer = am.unet_model(layer)\n",
    "\n",
    "# Define model \n",
    "model = am.define_model(input_layer, output_layer)\n",
    "\n",
    "# x=GlobalAveragePooling2D()(x)\n",
    "# x=Dense(1024,activation='relu')(x) \n",
    "# x=Dense(1024,activation='relu')(x) #dense layer 2\n",
    "# x=Dense(512,activation='relu')(x) #dense layer 3\n",
    "# preds=Dense(2,activation='softmax')(x) #final layer with softmax activation\n",
    "\n",
    "for layer in model.layers[:20]:\n",
    "    layer.trainable=False\n",
    "for layer in model.layers[20:]:\n",
    "    layer.trainable=True"
   ]
  },
  {
   "cell_type": "markdown",
   "metadata": {},
   "source": [
    "## Own Metrics"
   ]
  },
  {
   "cell_type": "code",
   "execution_count": 9,
   "metadata": {},
   "outputs": [],
   "source": [
    "def recall(y_true, y_pred):\n",
    "    true_positives = K.sum(K.round(K.clip(y_true * y_pred, 0, 1)))\n",
    "    possible_positives = K.sum(K.round(K.clip(y_true, 0, 1)))\n",
    "    result = true_positives / (possible_positives + K.epsilon())\n",
    "    return result\n",
    "\n",
    "def precision(y_true, y_pred):\n",
    "    true_positives = K.sum(K.round(K.clip(y_true * y_pred, 0, 1)))\n",
    "    predicted_positives = K.sum(K.round(K.clip(y_pred, 0, 1)))\n",
    "    result = true_positives / (predicted_positives + K.epsilon())\n",
    "    return result\n",
    "\n",
    "\n",
    "def accuracy(y_true, y_pred):\n",
    "    true_positives = K.sum(K.round(K.clip(y_true * y_pred, 0, 1)))\n",
    "    negative_positives = K.sum(K.round(K.clip(y_true * y_pred, 1, 0)))\n",
    "    possible_positives = K.sum(K.round(K.clip(y_true, 0, 1)))\n",
    "    predicted_positives = K.sum(K.round(K.clip(y_pred, 0, 1)))\n",
    "    result = true_positives + negative_positives\n",
    "    result = result / result + possible_positives + predicted_positives\n",
    "    return result\n",
    "\n",
    "# def f1_score(y_true, y_pred):\n",
    "#     precision_result = precision(y_true, y_pred)\n",
    "#     recall_result = recall(y_true, y_pred)\n",
    "#     return 2*((precision_result*recall_result)/(precision_result+recall_result+K.epsilon()))\n"
   ]
  },
  {
   "cell_type": "markdown",
   "metadata": {
    "pycharm": {
     "name": "#%% md\n"
    }
   },
   "source": [
    "### Compile and train the model"
   ]
  },
  {
   "cell_type": "code",
   "execution_count": 12,
   "metadata": {
    "pycharm": {
     "name": "#%%\n"
    }
   },
   "outputs": [
    {
     "name": "stdout",
     "output_type": "stream",
     "text": [
      "Model: \"model_1\"\n",
      "__________________________________________________________________________________________________\n",
      "Layer (type)                    Output Shape         Param #     Connected to                     \n",
      "==================================================================================================\n",
      "img (InputLayer)                (None, 96, 96, 3)    0                                            \n",
      "__________________________________________________________________________________________________\n",
      "conv2d_1 (Conv2D)               (None, 96, 96, 32)   896         img[0][0]                        \n",
      "__________________________________________________________________________________________________\n",
      "dropout_1 (Dropout)             (None, 96, 96, 32)   0           conv2d_1[0][0]                   \n",
      "__________________________________________________________________________________________________\n",
      "conv2d_2 (Conv2D)               (None, 96, 96, 32)   9248        dropout_1[0][0]                  \n",
      "__________________________________________________________________________________________________\n",
      "max_pooling2d_1 (MaxPooling2D)  (None, 48, 48, 32)   0           conv2d_2[0][0]                   \n",
      "__________________________________________________________________________________________________\n",
      "conv2d_3 (Conv2D)               (None, 48, 48, 32)   9248        max_pooling2d_1[0][0]            \n",
      "__________________________________________________________________________________________________\n",
      "dropout_2 (Dropout)             (None, 48, 48, 32)   0           conv2d_3[0][0]                   \n",
      "__________________________________________________________________________________________________\n",
      "conv2d_4 (Conv2D)               (None, 48, 48, 32)   9248        dropout_2[0][0]                  \n",
      "__________________________________________________________________________________________________\n",
      "up_sampling2d_1 (UpSampling2D)  (None, 96, 96, 32)   0           conv2d_4[0][0]                   \n",
      "__________________________________________________________________________________________________\n",
      "concatenate_1 (Concatenate)     (None, 96, 96, 64)   0           up_sampling2d_1[0][0]            \n",
      "                                                                 conv2d_2[0][0]                   \n",
      "__________________________________________________________________________________________________\n",
      "conv2d_6 (Conv2D)               (None, 96, 96, 16)   9232        concatenate_1[0][0]              \n",
      "__________________________________________________________________________________________________\n",
      "batch_normalization_2 (BatchNor (None, 96, 96, 16)   64          conv2d_6[0][0]                   \n",
      "__________________________________________________________________________________________________\n",
      "activation_2 (Activation)       (None, 96, 96, 16)   0           batch_normalization_2[0][0]      \n",
      "__________________________________________________________________________________________________\n",
      "max_pooling2d_2 (MaxPooling2D)  (None, 48, 48, 16)   0           activation_2[0][0]               \n",
      "__________________________________________________________________________________________________\n",
      "dropout_3 (Dropout)             (None, 48, 48, 16)   0           max_pooling2d_2[0][0]            \n",
      "__________________________________________________________________________________________________\n",
      "conv2d_8 (Conv2D)               (None, 48, 48, 32)   4640        dropout_3[0][0]                  \n",
      "__________________________________________________________________________________________________\n",
      "batch_normalization_4 (BatchNor (None, 48, 48, 32)   128         conv2d_8[0][0]                   \n",
      "__________________________________________________________________________________________________\n",
      "activation_4 (Activation)       (None, 48, 48, 32)   0           batch_normalization_4[0][0]      \n",
      "__________________________________________________________________________________________________\n",
      "max_pooling2d_3 (MaxPooling2D)  (None, 24, 24, 32)   0           activation_4[0][0]               \n",
      "__________________________________________________________________________________________________\n",
      "dropout_4 (Dropout)             (None, 24, 24, 32)   0           max_pooling2d_3[0][0]            \n",
      "__________________________________________________________________________________________________\n",
      "conv2d_10 (Conv2D)              (None, 24, 24, 64)   18496       dropout_4[0][0]                  \n",
      "__________________________________________________________________________________________________\n",
      "batch_normalization_6 (BatchNor (None, 24, 24, 64)   256         conv2d_10[0][0]                  \n",
      "__________________________________________________________________________________________________\n",
      "activation_6 (Activation)       (None, 24, 24, 64)   0           batch_normalization_6[0][0]      \n",
      "__________________________________________________________________________________________________\n",
      "max_pooling2d_4 (MaxPooling2D)  (None, 12, 12, 64)   0           activation_6[0][0]               \n",
      "__________________________________________________________________________________________________\n",
      "dropout_5 (Dropout)             (None, 12, 12, 64)   0           max_pooling2d_4[0][0]            \n",
      "__________________________________________________________________________________________________\n",
      "conv2d_12 (Conv2D)              (None, 12, 12, 128)  73856       dropout_5[0][0]                  \n",
      "__________________________________________________________________________________________________\n",
      "batch_normalization_8 (BatchNor (None, 12, 12, 128)  512         conv2d_12[0][0]                  \n",
      "__________________________________________________________________________________________________\n",
      "activation_8 (Activation)       (None, 12, 12, 128)  0           batch_normalization_8[0][0]      \n",
      "__________________________________________________________________________________________________\n",
      "max_pooling2d_5 (MaxPooling2D)  (None, 6, 6, 128)    0           activation_8[0][0]               \n",
      "__________________________________________________________________________________________________\n",
      "dropout_6 (Dropout)             (None, 6, 6, 128)    0           max_pooling2d_5[0][0]            \n",
      "__________________________________________________________________________________________________\n",
      "conv2d_14 (Conv2D)              (None, 6, 6, 256)    295168      dropout_6[0][0]                  \n",
      "__________________________________________________________________________________________________\n",
      "batch_normalization_10 (BatchNo (None, 6, 6, 256)    1024        conv2d_14[0][0]                  \n",
      "__________________________________________________________________________________________________\n",
      "activation_10 (Activation)      (None, 6, 6, 256)    0           batch_normalization_10[0][0]     \n",
      "__________________________________________________________________________________________________\n",
      "conv2d_transpose_1 (Conv2DTrans (None, 12, 12, 128)  295040      activation_10[0][0]              \n",
      "__________________________________________________________________________________________________\n",
      "concatenate_2 (Concatenate)     (None, 12, 12, 256)  0           conv2d_transpose_1[0][0]         \n",
      "                                                                 activation_8[0][0]               \n",
      "__________________________________________________________________________________________________\n",
      "dropout_7 (Dropout)             (None, 12, 12, 256)  0           concatenate_2[0][0]              \n",
      "__________________________________________________________________________________________________\n",
      "conv2d_16 (Conv2D)              (None, 12, 12, 128)  295040      dropout_7[0][0]                  \n",
      "__________________________________________________________________________________________________\n",
      "batch_normalization_12 (BatchNo (None, 12, 12, 128)  512         conv2d_16[0][0]                  \n",
      "__________________________________________________________________________________________________\n",
      "activation_12 (Activation)      (None, 12, 12, 128)  0           batch_normalization_12[0][0]     \n",
      "__________________________________________________________________________________________________\n",
      "conv2d_transpose_2 (Conv2DTrans (None, 24, 24, 64)   73792       activation_12[0][0]              \n",
      "__________________________________________________________________________________________________\n",
      "concatenate_3 (Concatenate)     (None, 24, 24, 128)  0           conv2d_transpose_2[0][0]         \n",
      "                                                                 activation_6[0][0]               \n",
      "__________________________________________________________________________________________________\n",
      "dropout_8 (Dropout)             (None, 24, 24, 128)  0           concatenate_3[0][0]              \n",
      "__________________________________________________________________________________________________\n",
      "conv2d_18 (Conv2D)              (None, 24, 24, 64)   73792       dropout_8[0][0]                  \n",
      "__________________________________________________________________________________________________\n",
      "batch_normalization_14 (BatchNo (None, 24, 24, 64)   256         conv2d_18[0][0]                  \n",
      "__________________________________________________________________________________________________\n",
      "activation_14 (Activation)      (None, 24, 24, 64)   0           batch_normalization_14[0][0]     \n",
      "__________________________________________________________________________________________________\n",
      "conv2d_transpose_3 (Conv2DTrans (None, 48, 48, 32)   18464       activation_14[0][0]              \n",
      "__________________________________________________________________________________________________\n",
      "concatenate_4 (Concatenate)     (None, 48, 48, 64)   0           conv2d_transpose_3[0][0]         \n",
      "                                                                 activation_4[0][0]               \n",
      "__________________________________________________________________________________________________\n",
      "dropout_9 (Dropout)             (None, 48, 48, 64)   0           concatenate_4[0][0]              \n",
      "__________________________________________________________________________________________________\n",
      "conv2d_20 (Conv2D)              (None, 48, 48, 32)   18464       dropout_9[0][0]                  \n",
      "__________________________________________________________________________________________________\n",
      "batch_normalization_16 (BatchNo (None, 48, 48, 32)   128         conv2d_20[0][0]                  \n",
      "__________________________________________________________________________________________________\n",
      "activation_16 (Activation)      (None, 48, 48, 32)   0           batch_normalization_16[0][0]     \n",
      "__________________________________________________________________________________________________\n",
      "conv2d_transpose_4 (Conv2DTrans (None, 96, 96, 16)   4624        activation_16[0][0]              \n",
      "__________________________________________________________________________________________________\n",
      "concatenate_5 (Concatenate)     (None, 96, 96, 32)   0           conv2d_transpose_4[0][0]         \n",
      "                                                                 activation_2[0][0]               \n",
      "__________________________________________________________________________________________________\n",
      "dropout_10 (Dropout)            (None, 96, 96, 32)   0           concatenate_5[0][0]              \n",
      "__________________________________________________________________________________________________\n",
      "conv2d_22 (Conv2D)              (None, 96, 96, 16)   4624        dropout_10[0][0]                 \n",
      "__________________________________________________________________________________________________\n",
      "batch_normalization_18 (BatchNo (None, 96, 96, 16)   64          conv2d_22[0][0]                  \n",
      "__________________________________________________________________________________________________\n",
      "activation_18 (Activation)      (None, 96, 96, 16)   0           batch_normalization_18[0][0]     \n",
      "__________________________________________________________________________________________________\n",
      "conv2d_23 (Conv2D)              (None, 96, 96, 1)    17          activation_18[0][0]              \n",
      "__________________________________________________________________________________________________\n",
      "flatten_1 (Flatten)             (None, 9216)         0           conv2d_23[0][0]                  \n",
      "__________________________________________________________________________________________________\n",
      "dense_1 (Dense)                 (None, 2)            18434       flatten_1[0][0]                  \n",
      "==================================================================================================\n",
      "Total params: 1,235,267\n",
      "Trainable params: 1,233,795\n",
      "Non-trainable params: 1,472\n",
      "__________________________________________________________________________________________________\n"
     ]
    }
   ],
   "source": [
    "callbacks = [\n",
    "    cb.callbacks.ModelCheckpoint(model_name, save_best_only=True)\n",
    "#     cb.callbacks.EarlyStopping(monitor = 'val_loss'),\n",
    "#     cb.callbacks.CSVLogger('model.csv', separator=',', append=False),\n",
    "#     cb.tensorboard_v1.TensorBoard(log_dir='./logs', histogram_freq=0, batch_size=32, write_graph=True, write_grads=False, write_images=False, embeddings_freq=0, embeddings_layer_names=None, embeddings_metadata=None, embeddings_data=None, update_freq='epoch')\n",
    "]\n",
    "\n",
    "model.compile(loss=keras.losses.categorical_crossentropy, \n",
    "              optimizer=keras.optimizers.Adam(), \n",
    "              metrics=[\n",
    "                       precision,\n",
    "                       recall,\n",
    "                       'accuracy',\n",
    "                       tensorflow.keras.metrics.TruePositives(),\n",
    "                       tensorflow.keras.metrics.FalsePositives(),\n",
    "                       tensorflow.keras.metrics.FalseNegatives()\n",
    "                      ])\n",
    "\n",
    "model.summary()"
   ]
  },
  {
   "cell_type": "code",
   "execution_count": 13,
   "metadata": {
    "pycharm": {
     "name": "#%%\n"
    }
   },
   "outputs": [
    {
     "name": "stdout",
     "output_type": "stream",
     "text": [
      "Train on 262144 samples, validate on 32768 samples\n",
      "Epoch 1/10\n",
      "262144/262144 [==============================] - 812s 3ms/step - loss: 0.1902 - precision: 0.9267 - recall: 0.9267 - accuracy: 0.9267 - true_positives_1: 121335.5312 - false_positives_1: 9752.4531 - false_negatives_1: 9752.4531 - val_loss: 0.6084 - val_precision: 0.6830 - val_recall: 0.6830 - val_accuracy: 0.6830 - val_true_positives_1: 254122.2812 - val_false_positives_1: 24421.7852 - val_false_negatives_1: 24421.7852\n",
      "Epoch 2/10\n",
      "262144/262144 [==============================] - 804s 3ms/step - loss: 0.1751 - precision: 0.9323 - recall: 0.9323 - accuracy: 0.9323 - true_positives_1: 387475.4688 - false_positives_1: 38524.2773 - false_negatives_1: 38524.2773 - val_loss: 0.5097 - val_precision: 0.7852 - val_recall: 0.7852 - val_accuracy: 0.7852 - val_true_positives_1: 522631.6875 - val_false_positives_1: 50824.1797 - val_false_negatives_1: 50824.1797\n",
      "Epoch 3/10\n",
      "262144/262144 [==============================] - 804s 3ms/step - loss: 0.1633 - precision: 0.9369 - recall: 0.9369 - accuracy: 0.9369 - true_positives_1: 658261.8125 - false_positives_1: 62650.1719 - false_negatives_1: 62650.1719 - val_loss: 0.7860 - val_precision: 0.7832 - val_recall: 0.7832 - val_accuracy: 0.7832 - val_true_positives_1: 793923.7500 - val_false_positives_1: 74444.4219 - val_false_negatives_1: 74444.4219\n",
      "Epoch 4/10\n",
      "262144/262144 [==============================] - 799s 3ms/step - loss: 0.1525 - precision: 0.9415 - recall: 0.9415 - accuracy: 0.9415 - true_positives_1: 930107.4375 - false_positives_1: 85716.1406 - false_negatives_1: 85716.1406 - val_loss: 1.0663 - val_precision: 0.6123 - val_recall: 0.6123 - val_accuracy: 0.6123 - val_true_positives_1: 1063576.3750 - val_false_positives_1: 99703.5000 - val_false_negatives_1: 99703.5000\n",
      "Epoch 5/10\n",
      "262144/262144 [==============================] - 797s 3ms/step - loss: 0.1437 - precision: 0.9450 - recall: 0.9450 - accuracy: 0.9450 - true_positives_1: 1197475.7500 - false_positives_1: 113259.6562 - false_negatives_1: 113259.6562 - val_loss: 0.6497 - val_precision: 0.8009 - val_recall: 0.8009 - val_accuracy: 0.8009 - val_true_positives_1: 1334472.0000 - val_false_positives_1: 123720.2578 - val_false_negatives_1: 123720.2578\n",
      "Epoch 6/10\n",
      "262144/262144 [==============================] - 814s 3ms/step - loss: 0.1347 - precision: 0.9487 - recall: 0.9487 - accuracy: 0.9487 - true_positives_1: 1471796.0000 - false_positives_1: 133851.7812 - false_negatives_1: 133851.7812 - val_loss: 1.1260 - val_precision: 0.7113 - val_recall: 0.7113 - val_accuracy: 0.7113 - val_true_positives_1: 1607931.3750 - val_false_positives_1: 145172.6250 - val_false_negatives_1: 145172.6250\n",
      "Epoch 7/10\n",
      "262144/262144 [==============================] - 821s 3ms/step - loss: 0.1265 - precision: 0.9515 - recall: 0.9515 - accuracy: 0.9515 - true_positives_1: 1744222.0000 - false_positives_1: 156337.5469 - false_negatives_1: 156337.5469 - val_loss: 0.7015 - val_precision: 0.7245 - val_recall: 0.7245 - val_accuracy: 0.7245 - val_true_positives_1: 1880878.7500 - val_false_positives_1: 167137.3438 - val_false_negatives_1: 167137.3438\n",
      "Epoch 8/10\n",
      "262144/262144 [==============================] - 821s 3ms/step - loss: 0.1187 - precision: 0.9548 - recall: 0.9548 - accuracy: 0.9548 - true_positives_1: 2017863.5000 - false_positives_1: 177608.1875 - false_negatives_1: 177608.1875 - val_loss: 0.7340 - val_precision: 0.7092 - val_recall: 0.7092 - val_accuracy: 0.7092 - val_true_positives_1: 2154663.7500 - val_false_positives_1: 188264.1562 - val_false_negatives_1: 188264.1562\n",
      "Epoch 9/10\n",
      "262144/262144 [==============================] - 819s 3ms/step - loss: 0.1136 - precision: 0.9569 - recall: 0.9569 - accuracy: 0.9569 - true_positives_1: 2291769.2500 - false_positives_1: 198613.8125 - false_negatives_1: 198613.8125 - val_loss: 0.7932 - val_precision: 0.7314 - val_recall: 0.7314 - val_accuracy: 0.7314 - val_true_positives_1: 2429117.2500 - val_false_positives_1: 208723.1719 - val_false_negatives_1: 208723.1719\n",
      "Epoch 10/10\n",
      "262144/262144 [==============================] - 809s 3ms/step - loss: 0.1087 - precision: 0.9591 - recall: 0.9591 - accuracy: 0.9591 - true_positives_1: 2566861.7500 - false_positives_1: 218434.3438 - false_negatives_1: 218434.3438 - val_loss: 0.9209 - val_precision: 0.7332 - val_recall: 0.7332 - val_accuracy: 0.7332 - val_true_positives_1: 2704564.5000 - val_false_positives_1: 228186.8125 - val_false_negatives_1: 228186.8125\n"
     ]
    }
   ],
   "source": [
    "history = model.fit(\n",
    "    x_train,\n",
    "    to_categorical(y_train),\n",
    "    # batch_size=batch_size,\n",
    "    epochs=epochs,\n",
    "    verbose=1,\n",
    "    validation_data=(x_valid, to_categorical(y_valid)),\n",
    "    shuffle='batch',\n",
    "    callbacks=callbacks,\n",
    "    use_multiprocessing=True, \n",
    "    workers=8\n",
    ")"
   ]
  },
  {
   "cell_type": "code",
   "execution_count": 14,
   "metadata": {},
   "outputs": [],
   "source": [
    "model.save('eop_' + model_name)"
   ]
  },
  {
   "cell_type": "markdown",
   "metadata": {},
   "source": [
    "# Evaluate the model"
   ]
  },
  {
   "cell_type": "code",
   "execution_count": 15,
   "metadata": {},
   "outputs": [],
   "source": [
    "def f1_score_fun(precision, recall):\n",
    "    return 2*((precision*recall)/(precision+recall+K.epsilon()))"
   ]
  },
  {
   "cell_type": "code",
   "execution_count": 16,
   "metadata": {},
   "outputs": [],
   "source": [
    "test_eval = model.evaluate(x_test, to_categorical(y_test), verbose=0)\n",
    "f1_score = f1_score_fun(test_eval[2], test_eval[3])"
   ]
  },
  {
   "cell_type": "code",
   "execution_count": 17,
   "metadata": {},
   "outputs": [
    {
     "name": "stdout",
     "output_type": "stream",
     "text": [
      "Test loss: 1.0000710187887307 Accuracy: 0.70782470703125 Precision: 0.70782470703125 Recall: 0.70782470703125 TruePositives: 2728194.75 F1_score 0.7078246570312535 "
     ]
    }
   ],
   "source": [
    "print('Test loss:', test_eval[0],end=' ')\n",
    "print('Accuracy:', test_eval[1],end=' ')\n",
    "print('Precision:', test_eval[2],end=' ')\n",
    "print('Recall:', test_eval[3],end=' ')\n",
    "print('TruePositives:', test_eval[4],end=' ')\n",
    "print('F1_score', f1_score,end=' ')"
   ]
  },
  {
   "cell_type": "code",
   "execution_count": 18,
   "metadata": {},
   "outputs": [],
   "source": [
    "y_pred = model.predict(x_test, verbose=0, workers=8, use_multiprocessing=True)"
   ]
  },
  {
   "cell_type": "code",
   "execution_count": 20,
   "metadata": {},
   "outputs": [
    {
     "name": "stdout",
     "output_type": "stream",
     "text": [
      "My precision tf.Tensor(0.7078247, shape=(), dtype=float32)\n",
      "My recall tf.Tensor(0.7078247, shape=(), dtype=float32)\n",
      "My accuracy tf.Tensor(65537.0, shape=(), dtype=float32)\n"
     ]
    }
   ],
   "source": [
    "print('My precision', precision(to_categorical(y_test), y_pred))\n",
    "print('My recall', recall(to_categorical(y_test), y_pred))\n",
    "print('My accuracy', accuracy(to_categorical(y_test), y_pred))"
   ]
  },
  {
   "cell_type": "code",
   "execution_count": 21,
   "metadata": {},
   "outputs": [],
   "source": [
    "# load model\n",
    "# custom_objects = {}\n",
    "# custom_objects[\"tensorflow.keras.metrics.Precision()\"] = tensorflow.keras.metrics.Precision()\n",
    "# model = tf.keras.models.load_model('eop_' + model_name, custom_objects=custom_objects)\n",
    "\n",
    "custom_objects = {}\n",
    "custom_objects[\"precision\"] = precision\n",
    "custom_objects[\"recall\"] = recall\n",
    "custom_objects[\"tensorflow.keras.metrics.TruePositives\"] = tensorflow.keras.metrics.TruePositives()\n",
    "custom_objects[\"tensorflow.keras.metrics.FalsePositives\"] = tensorflow.keras.metrics.FalsePositives()\n",
    "custom_objects[\"tensorflow.keras.metrics.FalseNegatives\"] = tensorflow.keras.metrics.FalseNegatives()\n",
    "loaded_model = tf.keras.models.load_model('eop_' + model_name, custom_objects=custom_objects)"
   ]
  },
  {
   "cell_type": "code",
   "execution_count": 24,
   "metadata": {},
   "outputs": [
    {
     "data": {
      "image/png": "[encoded data removed]",
      "text/plain": [
       "<Figure size 432x288 with 1 Axes>"
      ]
     },
     "metadata": {
      "needs_background": "light"
     },
     "output_type": "display_data"
    },
    {
     "data": {
      "image/png": "[encoded data removed]",
      "text/plain": [
       "<Figure size 432x288 with 1 Axes>"
      ]
     },
     "metadata": {
      "needs_background": "light"
     },
     "output_type": "display_data"
    },
    {
     "data": {
      "image/png": "[encoded data removed]",
      "text/plain": [
       "<Figure size 432x288 with 1 Axes>"
      ]
     },
     "metadata": {
      "needs_background": "light"
     },
     "output_type": "display_data"
    },
    {
     "data": {
      "image/png": "[encoded data removed]",
      "text/plain": [
       "<Figure size 432x288 with 1 Axes>"
      ]
     },
     "metadata": {
      "needs_background": "light"
     },
     "output_type": "display_data"
    },
    {
     "data": {
      "image/png": "[encoded data removed]",
      "text/plain": [
       "<Figure size 432x288 with 1 Axes>"
      ]
     },
     "metadata": {
      "needs_background": "light"
     },
     "output_type": "display_data"
    }
   ],
   "source": [
    "import matplotlib.pyplot as plt\n",
    "# print(history.history.keys())\n",
    "\n",
    "plt.plot(history.history['accuracy'])\n",
    "plt.plot(history.history['val_accuracy'])\n",
    "plt.title('model accuracy')\n",
    "plt.ylabel('accuracy')\n",
    "plt.xlabel('epoch')\n",
    "plt.legend(['accuracy', 'val_accuracy'], loc='upper left')\n",
    "plt.show()\n",
    "\n",
    "plt.plot(history.history['loss'])\n",
    "plt.plot(history.history['val_loss'])\n",
    "plt.title('model loss')\n",
    "plt.ylabel('loss')\n",
    "plt.xlabel('epoch')\n",
    "plt.legend(['loss', 'val_loss'], loc='upper left')\n",
    "plt.show()\n",
    "\n",
    "plt.plot(history.history['precision'])\n",
    "plt.plot(history.history['val_precision'])\n",
    "plt.title('model precision')\n",
    "plt.ylabel('precision')\n",
    "plt.xlabel('epoch')\n",
    "plt.legend(['precision', 'val_precision'], loc='upper left')\n",
    "plt.show()\n",
    "\n",
    "plt.plot(history.history['recall'])\n",
    "plt.plot(history.history['val_recall'])\n",
    "plt.title('model recall')\n",
    "plt.ylabel('recall')\n",
    "plt.xlabel('epoch')\n",
    "plt.legend(['recall', 'val_recall'], loc='upper left')\n",
    "plt.show()\n",
    "\n",
    "plt.plot(history.history['recall'])\n",
    "plt.plot(history.history['precision'])\n",
    "plt.title('recall precision')\n",
    "plt.ylabel('recall')\n",
    "plt.xlabel('precision')\n",
    "plt.legend(['recall', 'precision'], loc='upper left')\n",
    "plt.show()"
   ]
  },
  {
   "cell_type": "code",
   "execution_count": null,
   "metadata": {},
   "outputs": [],
   "source": []
  }
 ],
 "metadata": {
  "kernelspec": {
   "display_name": "Python 3",
   "language": "python",
   "name": "python3"
  },
  "language_info": {
   "codemirror_mode": {
    "name": "ipython",
    "version": 3
   },
   "file_extension": ".py",
   "mimetype": "text/x-python",
   "name": "python",
   "nbconvert_exporter": "python",
   "pygments_lexer": "ipython3",
   "version": "3.7.4"
  },
  "pycharm": {
   "stem_cell": {
    "cell_type": "raw",
    "metadata": {
     "collapsed": false
    },
    "source": []
   }
  }
 },
 "nbformat": 4,
 "nbformat_minor": 4
}
