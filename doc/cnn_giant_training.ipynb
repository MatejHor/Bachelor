{
 "cells": [
  {
   "cell_type": "code",
   "execution_count": 1,
   "metadata": {},
   "outputs": [
    {
     "name": "stderr",
     "output_type": "stream",
     "text": [
      "Using TensorFlow backend.\n"
     ]
    }
   ],
   "source": [
    "from keras.utils import HDF5Matrix\n",
    "from keras.preprocessing.image import ImageDataGenerator\n",
    "from keras.models import Model\n",
    "from keras.utils import to_categorical\n",
    "from keras import backend as K\n",
    "import keras.callbacks as cb\n",
    "from keras.models import load_model\n",
    "from keras.layers import Input, Dense, BatchNormalization, Dropout, Conv2D, MaxPool2D, Flatten, LeakyReLU, Concatenate, GlobalAveragePooling2D, UpSampling2D\n",
    "from PIL import Image\n",
    "\n",
    "import keras\n",
    "import tensorflow\n",
    "import tensorflow.compat.v1 as tf\n",
    "\n",
    "import numpy as np\n",
    "import pandas as pd\n",
    "import imageio\n",
    "import cv2\n",
    "import pprint\n",
    "import os\n",
    "import re\n",
    "import h5py\n",
    "import PIL\n",
    "\n",
    "import src.model as my_model\n",
    "import src.pcam_loader as data\n",
    "import src.adaptive_model as am\n",
    "import src.dagm_loader as dagm"
   ]
  },
  {
   "cell_type": "code",
   "execution_count": 2,
   "metadata": {},
   "outputs": [],
   "source": [
    "def recall(y_true, y_pred):\n",
    "    true_positives = K.sum(K.round(K.clip(y_true * y_pred, 0, 1)))\n",
    "    possible_positives = K.sum(K.round(K.clip(y_true, 0, 1)))\n",
    "    result = true_positives / (possible_positives + K.epsilon())\n",
    "    return result\n",
    "\n",
    "\n",
    "def precision(y_true, y_pred):\n",
    "    true_positives = K.sum(K.round(K.clip(y_true * y_pred, 0, 1)))\n",
    "    predicted_positives = K.sum(K.round(K.clip(y_pred, 0, 1)))\n",
    "    result = true_positives / (predicted_positives + K.epsilon())\n",
    "    return result\n",
    "\n",
    "\n",
    "def f1_score_metrics(y_true, y_pred):\n",
    "    precision_result = precision(y_true, y_pred)\n",
    "    recall_result = recall(y_true, y_pred)\n",
    "    return 2*((precision_result*recall_result)/(precision_result+recall_result+K.epsilon()))\n",
    "\n",
    "\n",
    "def f1_score_evaluate(precision, recall):\n",
    "    return 2*((precision*recall)/(precision+recall+K.epsilon()))"
   ]
  },
  {
   "cell_type": "code",
   "execution_count": 3,
   "metadata": {},
   "outputs": [
    {
     "name": "stdout",
     "output_type": "stream",
     "text": [
      "[name: \"/device:CPU:0\"\n",
      "device_type: \"CPU\"\n",
      "memory_limit: 268435456\n",
      "locality {\n",
      "}\n",
      "incarnation: 4776444006325732520\n",
      ", name: \"/device:GPU:0\"\n",
      "device_type: \"GPU\"\n",
      "memory_limit: 4854028697\n",
      "locality {\n",
      "  bus_id: 1\n",
      "  links {\n",
      "  }\n",
      "}\n",
      "incarnation: 5750627894205695671\n",
      "physical_device_desc: \"device: 0, name: GeForce GTX 1660 Ti, pci bus id: 0000:26:00.0, compute capability: 7.5\"\n",
      "]\n",
      "Device mapping:\n",
      "/job:localhost/replica:0/task:0/device:GPU:0 -> device: 0, name: GeForce GTX 1660 Ti, pci bus id: 0000:26:00.0, compute capability: 7.5\n",
      "\n"
     ]
    }
   ],
   "source": [
    "from tensorflow.python.client import device_lib\n",
    "print(device_lib.list_local_devices())\n",
    "\n",
    "# config = tf.ConfigProto(device_count={\"CPU\": 8})\n",
    "# tensorflow.compat.v1.keras.backend.set_session(tf.Session(config=config))\n",
    "sess = tf.Session(config=tf.ConfigProto(log_device_placement=True))"
   ]
  },
  {
   "cell_type": "code",
   "execution_count": 4,
   "metadata": {},
   "outputs": [],
   "source": [
    "# x_train, y_train = dagm.load_dataset('Train', 'data')\n",
    "# x_test, y_test = dagm.load_dataset('Test', 'data')\n",
    "\n",
    "# x_valid_length = round(len(x_test)/2)\n",
    "\n",
    "# x_valid = np.array(x_test[x_valid_length:])\n",
    "# x_test = np.array(x_test[:x_valid_length])\n",
    "\n",
    "# y_valid = y_test[x_valid_length:]\n",
    "# y_test = y_test[:x_valid_length]"
   ]
  },
  {
   "cell_type": "code",
   "execution_count": 5,
   "metadata": {},
   "outputs": [
    {
     "name": "stderr",
     "output_type": "stream",
     "text": [
      "C:\\Users\\matho\\anaconda3\\lib\\site-packages\\keras\\utils\\io_utils.py:60: H5pyDeprecationWarning: The default file mode will change to 'r' (read-only) in h5py 3.0. To suppress this warning, pass the mode you need to h5py.File(), or set the global default h5.get_config().default_file_mode, or set the environment variable H5PY_DEFAULT_READONLY=1. Available modes are: 'r', 'r+', 'w', 'w-'/'x', 'a'. See the docs for details.\n",
      "  f = h5py.File(datapath)\n"
     ]
    }
   ],
   "source": [
    "dataset = data.load_data()\n",
    "x_train, y_train, meta_train =  dataset[0]\n",
    "x_valid, y_valid, meta_valid =  dataset[1]\n",
    "x_test, y_test, meta_test =  dataset[2]\n",
    "\n",
    "y_train = np.array(y_train[:])\n",
    "y_train = y_train.reshape(-1, 1)\n",
    "y_valid = np.array(y_valid[:])\n",
    "y_valid = y_valid.reshape(-1, 1)\n",
    "y_test = np.array(y_test[:])\n",
    "y_test = y_test.reshape(-1, 1)"
   ]
  },
  {
   "cell_type": "code",
   "execution_count": 6,
   "metadata": {},
   "outputs": [],
   "source": [
    "batch_size = 10\n",
    "epochs = 10\n",
    "num_classes = 2\n",
    "shape = x_train[0].shape\n",
    "results = {}"
   ]
  },
  {
   "cell_type": "code",
   "execution_count": 7,
   "metadata": {},
   "outputs": [],
   "source": [
    "def train(model, x_train, y_train, x_valid, y_valid, model_name):\n",
    "    callbacks = [\n",
    "        cb.callbacks.ModelCheckpoint(model_name, save_best_only=True)\n",
    "    #     cb.callbacks.EarlyStopping(monitor = 'val_loss'),\n",
    "    #     cb.callbacks.CSVLogger('model.csv', separator=',', append=False),\n",
    "    #     cb.tensorboard_v1.TensorBoard(log_dir='./logs', histogram_freq=0, batch_size=16, write_graph=True, write_grads=False, write_images=False, embeddings_freq=0, embeddings_layer_names=None, embeddings_metadata=None, embeddings_data=None, update_freq='epoch')\n",
    "    ]\n",
    "\n",
    "    model.compile(loss=keras.losses.categorical_crossentropy, \n",
    "                  optimizer=keras.optimizers.Adam(), \n",
    "                  metrics=[\n",
    "                      tensorflow.keras.metrics.Precision(),\n",
    "                      'accuracy',\n",
    "                      tensorflow.keras.metrics.Recall(),\n",
    "                      tensorflow.keras.metrics.TruePositives(),\n",
    "                      tensorflow.keras.metrics.FalsePositives(),\n",
    "                      tensorflow.keras.metrics.FalseNegatives()\n",
    "                          ])\n",
    "\n",
    "    history = model.fit(\n",
    "        x_train,\n",
    "        to_categorical(y_train),\n",
    "        batch_size=batch_size,\n",
    "        epochs=epochs,\n",
    "        verbose=1,\n",
    "        validation_data=(x_valid, to_categorical(y_valid)),\n",
    "        shuffle='batch',\n",
    "        callbacks=callbacks,\n",
    "        use_multiprocessing=True\n",
    "    )\n",
    "    return history"
   ]
  },
  {
   "cell_type": "code",
   "execution_count": 8,
   "metadata": {},
   "outputs": [],
   "source": [
    "counter = 0\n",
    "def evaluate(model, x_test, y_test, history, model_name, results, counter):\n",
    "\n",
    "    test_eval = model.evaluate(x_test, to_categorical(y_test), verbose=0)\n",
    "    f1_score = f1_score_evaluate(test_eval[2], test_eval[3])\n",
    "    results[model_name] = {'Precision:': test_eval[1],\n",
    "                            'Accuracy:': test_eval[2],\n",
    "                            'Recall:': test_eval[3],\n",
    "                            'F1_score': f1_score}\n",
    "\n",
    "    import matplotlib.pyplot as plt\n",
    "    try:            \n",
    "        graf_value= 'accuracy'\n",
    "        plt.plot(history.history[graf_value])\n",
    "        plt.plot(history.history['val_' + graf_value])\n",
    "        plt.title('val_' + graf_value + ' ' + graf_value)\n",
    "        plt.ylabel('val_' + graf_value + ', ' + graf_value )\n",
    "        plt.xlabel('epochs')\n",
    "        plt.legend(['val_' + graf_value, graf_value], loc='upper left')\n",
    "        plt.savefig(os.path.join('data', 'giant_training', graf_value + '_' + re.sub('.h5', '.png', model_name)))\n",
    "        plt.show()\n",
    "    except:\n",
    "        print(\"error\")\n",
    "    try: \n",
    "        graf_value= 'precision'\n",
    "        if counter > 0:\n",
    "            graf_value += '_' + str(counter)\n",
    "        plt.plot(history.history[graf_value])\n",
    "        plt.plot(history.history['val_' + graf_value])\n",
    "        plt.title('val_' + graf_value + ' ' + graf_value)\n",
    "        plt.ylabel('val_' + graf_value + ', ' + graf_value )\n",
    "        plt.xlabel('epochs')\n",
    "        plt.legend(['val_' + graf_value, graf_value], loc='upper left')\n",
    "        plt.savefig(os.path.join('data', 'giant_training', graf_value + '_' + re.sub('.h5', '.png', model_name)))\n",
    "        plt.show()\n",
    "    except:\n",
    "        print(\"error\")\n",
    "    try:\n",
    "        graf_value= 'recall'\n",
    "        if counter > 0:\n",
    "            graf_value += '_' + str(counter)\n",
    "        plt.plot(history.history[graf_value])\n",
    "        plt.plot(history.history['val_' + graf_value])\n",
    "        plt.title('val_' + graf_value + ' ' + graf_value)\n",
    "        plt.ylabel('val_' + graf_value + ', ' + graf_value )\n",
    "        plt.xlabel('epochs')\n",
    "        plt.legend(['val_' + graf_value, graf_value], loc='upper left')\n",
    "        plt.savefig(os.path.join('data', 'giant_training', graf_value + '_' + re.sub('.h5', '.png', model_name)))\n",
    "        plt.show()\n",
    "    except:\n",
    "        print(\"error\")\n",
    "    try:\n",
    "        graf_value= 'true_positives'\n",
    "        if counter > 0:\n",
    "            graf_value += '_' + str(counter)\n",
    "        plt.plot(history.history[graf_value])\n",
    "        plt.plot(history.history['val_' + graf_value])\n",
    "        plt.title('val_' + graf_value + ' ' + graf_value)\n",
    "        plt.ylabel('val_' + graf_value + ', ' + graf_value )\n",
    "        plt.xlabel('epochs')\n",
    "        plt.legend(['val_' + graf_value, graf_value], loc='upper left')\n",
    "        plt.savefig(os.path.join('data', 'giant_training', graf_value + '_' + re.sub('.h5', '.png', model_name)))\n",
    "        plt.show()\n",
    "    except:\n",
    "        print(\"error\")\n",
    "    try:\n",
    "        graf_value= 'false_positives'\n",
    "        if counter > 0:\n",
    "            graf_value += '_' + str(counter)\n",
    "        plt.plot(history.history[graf_value])\n",
    "        plt.plot(history.history['val_' + graf_value])\n",
    "        plt.title('val_' + graf_value + ' ' + graf_value)\n",
    "        plt.ylabel('val_' + graf_value + ', ' + graf_value )\n",
    "        plt.xlabel('epochs')\n",
    "        plt.legend(['val_' + graf_value, graf_value], loc='upper left')\n",
    "        plt.savefig(os.path.join('data', 'giant_training', graf_value + '_' + re.sub('.h5', '.png', model_name)))\n",
    "        plt.show()\n",
    "    except:\n",
    "        print(\"error\")\n",
    "    try:\n",
    "        graf_value= 'false_negatives'\n",
    "        if counter > 0:\n",
    "            graf_value += '_' + str(counter)\n",
    "        plt.plot(history.history[graf_value])\n",
    "        plt.plot(history.history['val_' + graf_value])\n",
    "        plt.title('val_' + graf_value + ' ' + graf_value)\n",
    "        plt.ylabel('val_' + graf_value + ', ' + graf_value )\n",
    "        plt.xlabel('epochs')\n",
    "        plt.legend(['val_' + graf_value, graf_value], loc='upper left')\n",
    "        plt.savefig(os.path.join('data', 'giant_training', graf_value + '_' + re.sub('.h5', '.png', model_name)))\n",
    "        plt.show()\n",
    "    except:\n",
    "        print(\"error\")\n",
    "        \n",
    "    counter += 1"
   ]
  },
  {
   "cell_type": "markdown",
   "metadata": {},
   "source": [
    "## BackPropagation"
   ]
  },
  {
   "cell_type": "code",
   "execution_count": 9,
   "metadata": {
    "scrolled": false
   },
   "outputs": [
    {
     "name": "stdout",
     "output_type": "stream",
     "text": [
      "Train on 262144 samples, validate on 32768 samples\n",
      "Epoch 1/10\n",
      "262144/262144 [==============================] - 607s 2ms/step - loss: 0.2681 - precision: 0.8508 - accuracy: 0.8891 - recall: 0.8508 - true_positives: 114544.7578 - false_positives: 16535.1309 - false_negatives: 16535.1309 - val_loss: 0.4193 - val_precision: 0.8853 - val_accuracy: 0.8209 - val_recall: 0.8853 - val_true_positives: 246559.0938 - val_false_positives: 31974.7969 - val_false_negatives: 31974.7969\n",
      "Epoch 2/10\n",
      "262144/262144 [==============================] - 593s 2ms/step - loss: 0.1968 - precision: 0.8931 - accuracy: 0.9229 - recall: 0.8931 - true_positives: 380842.9375 - false_positives: 45148.9414 - false_negatives: 45148.9414 - val_loss: 0.4203 - val_precision: 0.8984 - val_accuracy: 0.8100 - val_recall: 0.8984 - val_true_positives: 515161.8125 - val_false_positives: 58284.0742 - val_false_negatives: 58284.0742\n",
      "Epoch 3/10\n",
      "262144/262144 [==============================] - 593s 2ms/step - loss: 0.1743 - precision: 0.9020 - accuracy: 0.9319 - recall: 0.9020 - true_positives: 650506.3750 - false_positives: 70396.9844 - false_negatives: 70396.9844 - val_loss: 0.4079 - val_precision: 0.9055 - val_accuracy: 0.8271 - val_recall: 0.9055 - val_true_positives: 786270.0000 - val_false_positives: 82087.7031 - val_false_negatives: 82087.7031\n",
      "Epoch 4/10\n",
      "262144/262144 [==============================] - 594s 2ms/step - loss: 0.1582 - precision: 0.9082 - accuracy: 0.9383 - recall: 0.9082 - true_positives: 922684.8750 - false_positives: 93131.2656 - false_negatives: 93131.2656 - val_loss: 0.3497 - val_precision: 0.9109 - val_accuracy: 0.8438 - val_recall: 0.9109 - val_true_positives: 1059661.6250 - val_false_positives: 103608.4609 - val_false_negatives: 103608.4609\n",
      "Epoch 5/10\n",
      "262144/262144 [==============================] - 594s 2ms/step - loss: 0.1467 - precision: 0.9131 - accuracy: 0.9427 - recall: 0.9131 - true_positives: 1196896.7500 - false_positives: 113830.8516 - false_negatives: 113830.8516 - val_loss: 0.3392 - val_precision: 0.9152 - val_accuracy: 0.8505 - val_recall: 0.9152 - val_true_positives: 1334532.1250 - val_false_positives: 123649.4531 - val_false_negatives: 123649.4531\n",
      "Epoch 6/10\n",
      "262144/262144 [==============================] - 595s 2ms/step - loss: 0.1377 - precision: 0.9169 - accuracy: 0.9464 - recall: 0.9169 - true_positives: 1472457.8750 - false_positives: 133185.8125 - false_negatives: 133185.8125 - val_loss: 0.4386 - val_precision: 0.9183 - val_accuracy: 0.8153 - val_recall: 0.9183 - val_true_positives: 1609882.5000 - val_false_positives: 143208.3281 - val_false_negatives: 143208.3281\n",
      "Epoch 7/10\n",
      "262144/262144 [==============================] - 595s 2ms/step - loss: 0.1298 - precision: 0.9195 - accuracy: 0.9497 - recall: 0.9195 - true_positives: 1747745.6250 - false_positives: 152808.8281 - false_negatives: 152808.8281 - val_loss: 0.3817 - val_precision: 0.9208 - val_accuracy: 0.8294 - val_recall: 0.9208 - val_true_positives: 1885802.1250 - val_false_positives: 162204.1406 - val_false_negatives: 162204.1406\n",
      "Epoch 8/10\n",
      "262144/262144 [==============================] - 598s 2ms/step - loss: 0.1243 - precision: 0.9220 - accuracy: 0.9520 - recall: 0.9220 - true_positives: 2024123.6250 - false_positives: 171336.7969 - false_negatives: 171336.7969 - val_loss: 0.3304 - val_precision: 0.9232 - val_accuracy: 0.8570 - val_recall: 0.9232 - val_true_positives: 2162974.7500 - val_false_positives: 179943.0000 - val_false_negatives: 179943.0000\n",
      "Epoch 9/10\n",
      "262144/262144 [==============================] - 591s 2ms/step - loss: 0.1190 - precision: 0.9245 - accuracy: 0.9539 - recall: 0.9245 - true_positives: 2302080.0000 - false_positives: 188289.7969 - false_negatives: 188289.7969 - val_loss: 0.2982 - val_precision: 0.9255 - val_accuracy: 0.8709 - val_recall: 0.9255 - val_true_positives: 2441331.5000 - val_false_positives: 196498.2969 - val_false_negatives: 196498.2969\n",
      "Epoch 10/10\n",
      "262144/262144 [==============================] - 579s 2ms/step - loss: 0.1139 - precision: 0.9267 - accuracy: 0.9559 - recall: 0.9267 - true_positives: 2580878.2500 - false_positives: 204405.0938 - false_negatives: 204405.0938 - val_loss: 0.3151 - val_precision: 0.9276 - val_accuracy: 0.8610 - val_recall: 0.9276 - val_true_positives: 2720300.5000 - val_false_positives: 212440.1250 - val_false_negatives: 212440.1250\n",
      "error\n",
      "error\n",
      "error\n",
      "error\n",
      "error\n",
      "error\n",
      "{'adaptive_backpropagation316.h5': {'Accuracy:': 0.7891845703125,\n",
      "                                    'F1_score': 0.852316805456002,\n",
      "                                    'Precision:': 0.9264281988143921,\n",
      "                                    'Recall:': 0.9264281988143921}}\n"
     ]
    },
    {
     "data": {
      "image/png": "[encoded data removed]",
      "text/plain": [
       "<Figure size 432x288 with 1 Axes>"
      ]
     },
     "metadata": {
      "needs_background": "light"
     },
     "output_type": "display_data"
    }
   ],
   "source": [
    "# Input layer with shape of data\n",
    "input_layer = am.input_layer(shape)\n",
    "model_name = 'adaptive_backpropagation316.h5'\n",
    "\n",
    "layers = am.unet_layer(input_layer, 3, 16)\n",
    "\n",
    "# Use Unet architecture as main model\n",
    "outputs_layer = am.unet_model(layers)\n",
    "\n",
    "# Output layer\n",
    "outputs_layer = am.flatten_layer(outputs_layer)\n",
    "outputs_layer = am.output_layer(outputs_layer)\n",
    "\n",
    "# Define model\n",
    "model = am.define_model(input_layer, outputs_layer)\n",
    "\n",
    "history = train(model, x_train, y_train, x_valid, y_valid, model_name)\n",
    "evaluate(model, x_test, y_test, history, model_name, results, counter)\n",
    "pprint.pprint(results)\n"
   ]
  },
  {
   "cell_type": "code",
   "execution_count": 10,
   "metadata": {},
   "outputs": [
    {
     "name": "stdout",
     "output_type": "stream",
     "text": [
      "Train on 262144 samples, validate on 32768 samples\n",
      "Epoch 1/10\n",
      "262144/262144 [==============================] - 584s 2ms/step - loss: 0.2647 - precision_1: 0.8585 - accuracy: 0.8920 - recall_1: 0.8585 - true_positives_1: 115298.2188 - false_positives_1: 15781.7285 - false_negatives_1: 15781.7285 - val_loss: 0.4569 - val_precision_1: 0.8852 - val_accuracy: 0.7737 - val_recall_1: 0.8852 - val_true_positives_1: 246511.6094 - val_false_positives_1: 32022.4141 - val_false_negatives_1: 32022.4141\n",
      "Epoch 2/10\n",
      "262144/262144 [==============================] - 580s 2ms/step - loss: 0.2092 - precision_1: 0.8896 - accuracy: 0.9179 - recall_1: 0.8896 - true_positives_1: 379363.1250 - false_positives_1: 46628.9219 - false_negatives_1: 46628.9219 - val_loss: 0.4148 - val_precision_1: 0.8954 - val_accuracy: 0.8293 - val_recall_1: 0.8954 - val_true_positives_1: 513433.4375 - val_false_positives_1: 60012.4180 - val_false_negatives_1: 60012.4180\n",
      "Epoch 3/10\n",
      "262144/262144 [==============================] - 580s 2ms/step - loss: 0.1861 - precision_1: 0.8990 - accuracy: 0.9270 - recall_1: 0.8990 - true_positives_1: 648329.7500 - false_positives_1: 72574.3359 - false_negatives_1: 72574.3359 - val_loss: 0.3864 - val_precision_1: 0.9022 - val_accuracy: 0.8190 - val_recall_1: 0.9022 - val_true_positives_1: 783422.7500 - val_false_positives_1: 84934.8125 - val_false_negatives_1: 84934.8125\n",
      "Epoch 4/10\n",
      "262144/262144 [==============================] - 580s 2ms/step - loss: 0.1705 - precision_1: 0.9046 - accuracy: 0.9334 - recall_1: 0.9046 - true_positives_1: 919063.0000 - false_positives_1: 96751.3906 - false_negatives_1: 96751.3906 - val_loss: 0.3773 - val_precision_1: 0.9072 - val_accuracy: 0.8393 - val_recall_1: 0.9072 - val_true_positives_1: 1055287.8750 - val_false_positives_1: 107982.0156 - val_false_negatives_1: 107982.0156\n",
      "Epoch 5/10\n",
      "262144/262144 [==============================] - 580s 2ms/step - loss: 0.1584 - precision_1: 0.9093 - accuracy: 0.9389 - recall_1: 0.9093 - true_positives_1: 1191974.3750 - false_positives_1: 118754.0781 - false_negatives_1: 118754.0781 - val_loss: 0.3671 - val_precision_1: 0.9114 - val_accuracy: 0.8451 - val_recall_1: 0.9114 - val_true_positives_1: 1329014.5000 - val_false_positives_1: 129167.7812 - val_false_negatives_1: 129167.7812\n",
      "Epoch 6/10\n",
      "262144/262144 [==============================] - 581s 2ms/step - loss: 0.1481 - precision_1: 0.9132 - accuracy: 0.9427 - recall_1: 0.9132 - true_positives_1: 1466447.8750 - false_positives_1: 139191.0000 - false_negatives_1: 139191.0000 - val_loss: 0.3490 - val_precision_1: 0.9148 - val_accuracy: 0.8428 - val_recall_1: 0.9148 - val_true_positives_1: 1603787.2500 - val_false_positives_1: 149307.0938 - val_false_negatives_1: 149307.0938\n",
      "Epoch 7/10\n",
      "262144/262144 [==============================] - 581s 2ms/step - loss: 0.1403 - precision_1: 0.9164 - accuracy: 0.9462 - recall_1: 0.9164 - true_positives_1: 1741672.6250 - false_positives_1: 158873.8594 - false_negatives_1: 158873.8594 - val_loss: 0.3844 - val_precision_1: 0.9175 - val_accuracy: 0.8232 - val_recall_1: 0.9175 - val_true_positives_1: 1879130.7500 - val_false_positives_1: 168872.2656 - val_false_negatives_1: 168872.2656\n",
      "Epoch 8/10\n",
      "262144/262144 [==============================] - 581s 2ms/step - loss: 0.1343 - precision_1: 0.9187 - accuracy: 0.9485 - recall_1: 0.9187 - true_positives_1: 2016951.1250 - false_positives_1: 178515.3750 - false_negatives_1: 178515.3750 - val_loss: 0.3419 - val_precision_1: 0.9198 - val_accuracy: 0.8460 - val_recall_1: 0.9198 - val_true_positives_1: 2155109.0000 - val_false_positives_1: 187810.3281 - val_false_negatives_1: 187810.3281\n",
      "Epoch 9/10\n",
      "262144/262144 [==============================] - 581s 2ms/step - loss: 0.1283 - precision_1: 0.9209 - accuracy: 0.9505 - recall_1: 0.9209 - true_positives_1: 2293644.7500 - false_positives_1: 196727.9531 - false_negatives_1: 196727.9531 - val_loss: 0.3092 - val_precision_1: 0.9221 - val_accuracy: 0.8625 - val_recall_1: 0.9221 - val_true_positives_1: 2432272.7500 - val_false_positives_1: 205557.2656 - val_false_negatives_1: 205557.2656\n",
      "Epoch 10/10\n",
      "262144/262144 [==============================] - 581s 2ms/step - loss: 0.1236 - precision_1: 0.9230 - accuracy: 0.9522 - recall_1: 0.9230 - true_positives_1: 2571199.0000 - false_positives_1: 214086.1406 - false_negatives_1: 214086.1406 - val_loss: 0.5035 - val_precision_1: 0.9236 - val_accuracy: 0.7655 - val_recall_1: 0.9236 - val_true_positives_1: 2708560.0000 - val_false_positives_1: 224188.0781 - val_false_negatives_1: 224188.0781\n",
      "error\n",
      "error\n",
      "error\n",
      "error\n",
      "error\n",
      "error\n",
      "{'adaptive_backpropagation316.h5': {'Accuracy:': 0.7891845703125,\n",
      "                                    'F1_score': 0.852316805456002,\n",
      "                                    'Precision:': 0.9264281988143921,\n",
      "                                    'Recall:': 0.9264281988143921},\n",
      " 'adaptive_backpropagation516.h5': {'Accuracy:': 0.787994384765625,\n",
      "                                    'F1_score': 0.8497211245566728,\n",
      "                                    'Precision:': 0.9219405055046082,\n",
      "                                    'Recall:': 0.9219405055046082}}\n"
     ]
    },
    {
     "data": {
      "image/png": "[encoded data removed]",
      "text/plain": [
       "<Figure size 432x288 with 1 Axes>"
      ]
     },
     "metadata": {
      "needs_background": "light"
     },
     "output_type": "display_data"
    }
   ],
   "source": [
    "# Input layer with shape of data\n",
    "input_layer = am.input_layer(shape)\n",
    "model_name = 'adaptive_backpropagation516.h5'\n",
    "\n",
    "layers = am.unet_layer(input_layer, 5, 16)\n",
    "\n",
    "# Use Unet architecture as main model\n",
    "outputs_layer = am.unet_model(layers)\n",
    "\n",
    "# Output layer\n",
    "outputs_layer = am.flatten_layer(outputs_layer)\n",
    "outputs_layer = am.output_layer(outputs_layer)\n",
    "\n",
    "# Define model\n",
    "model = am.define_model(input_layer, outputs_layer)\n",
    "\n",
    "history = train(model, x_train, y_train, x_valid, y_valid, model_name)\n",
    "evaluate(model, x_test, y_test, history, model_name, results, counter)\n",
    "pprint.pprint(results)\n"
   ]
  },
  {
   "cell_type": "code",
   "execution_count": 11,
   "metadata": {},
   "outputs": [
    {
     "name": "stdout",
     "output_type": "stream",
     "text": [
      "Train on 262144 samples, validate on 32768 samples\n",
      "Epoch 1/10\n",
      "262144/262144 [==============================] - 595s 2ms/step - loss: 0.2742 - precision_2: 0.8468 - accuracy: 0.8861 - recall_2: 0.8468 - true_positives_2: 114194.7109 - false_positives_2: 16885.3281 - false_negatives_2: 16885.3281 - val_loss: 0.4593 - val_precision_2: 0.8806 - val_accuracy: 0.7895 - val_recall_2: 0.8806 - val_true_positives_2: 245257.1250 - val_false_positives_2: 33276.7930 - val_false_negatives_2: 33276.7930\n",
      "Epoch 2/10\n",
      "262144/262144 [==============================] - 593s 2ms/step - loss: 0.2084 - precision_2: 0.8870 - accuracy: 0.9183 - recall_2: 0.8870 - true_positives_2: 378296.0625 - false_positives_2: 47696.1445 - false_negatives_2: 47696.1445 - val_loss: 0.5767 - val_precision_2: 0.8911 - val_accuracy: 0.7348 - val_recall_2: 0.8911 - val_true_positives_2: 510957.3750 - val_false_positives_2: 62488.6484 - val_false_negatives_2: 62488.6484\n",
      "Epoch 3/10\n",
      "262144/262144 [==============================] - 591s 2ms/step - loss: 0.1840 - precision_2: 0.8935 - accuracy: 0.9281 - recall_2: 0.8935 - true_positives_2: 644413.6250 - false_positives_2: 76490.2578 - false_negatives_2: 76490.2578 - val_loss: 0.3668 - val_precision_2: 0.8982 - val_accuracy: 0.8363 - val_recall_2: 0.8982 - val_true_positives_2: 779985.1875 - val_false_positives_2: 88372.7109 - val_false_negatives_2: 88372.7109\n",
      "Epoch 4/10\n",
      "262144/262144 [==============================] - 591s 2ms/step - loss: 0.1668 - precision_2: 0.9018 - accuracy: 0.9353 - recall_2: 0.9018 - true_positives_2: 916293.5000 - false_positives_2: 99522.7578 - false_negatives_2: 99522.7578 - val_loss: 0.4285 - val_precision_2: 0.9044 - val_accuracy: 0.8029 - val_recall_2: 0.9044 - val_true_positives_2: 1052062.6250 - val_false_positives_2: 111207.2422 - val_false_negatives_2: 111207.2422\n",
      "Epoch 5/10\n",
      "262144/262144 [==============================] - 591s 2ms/step - loss: 0.1549 - precision_2: 0.9065 - accuracy: 0.9402 - recall_2: 0.9065 - true_positives_2: 1188301.2500 - false_positives_2: 122427.4219 - false_negatives_2: 122427.4219 - val_loss: 0.3990 - val_precision_2: 0.9088 - val_accuracy: 0.8209 - val_recall_2: 0.9088 - val_true_positives_2: 1325121.1250 - val_false_positives_2: 133059.8438 - val_false_negatives_2: 133059.8438\n",
      "Epoch 6/10\n",
      "262144/262144 [==============================] - 591s 2ms/step - loss: 0.1451 - precision_2: 0.9106 - accuracy: 0.9442 - recall_2: 0.9106 - true_positives_2: 1462287.8750 - false_positives_2: 143356.1875 - false_negatives_2: 143356.1875 - val_loss: 0.3461 - val_precision_2: 0.9127 - val_accuracy: 0.8523 - val_recall_2: 0.9127 - val_true_positives_2: 1600041.8750 - val_false_positives_2: 153053.1875 - val_false_negatives_2: 153053.1875\n",
      "Epoch 7/10\n",
      "262144/262144 [==============================] - 591s 2ms/step - loss: 0.1375 - precision_2: 0.9145 - accuracy: 0.9467 - recall_2: 0.9145 - true_positives_2: 1738016.6250 - false_positives_2: 162537.8750 - false_negatives_2: 162537.8750 - val_loss: 0.3822 - val_precision_2: 0.9160 - val_accuracy: 0.8394 - val_recall_2: 0.9160 - val_true_positives_2: 1875904.1250 - val_false_positives_2: 172103.0625 - val_false_negatives_2: 172103.0625\n",
      "Epoch 8/10\n",
      "262144/262144 [==============================] - 591s 2ms/step - loss: 0.1305 - precision_2: 0.9173 - accuracy: 0.9499 - recall_2: 0.9173 - true_positives_2: 2014186.1250 - false_positives_2: 181280.6562 - false_negatives_2: 181280.6562 - val_loss: 0.3908 - val_precision_2: 0.9186 - val_accuracy: 0.8277 - val_recall_2: 0.9186 - val_true_positives_2: 2152239.5000 - val_false_positives_2: 190681.6406 - val_false_negatives_2: 190681.6406\n",
      "Epoch 9/10\n",
      "262144/262144 [==============================] - 592s 2ms/step - loss: 0.1253 - precision_2: 0.9197 - accuracy: 0.9520 - recall_2: 0.9197 - true_positives_2: 2290557.7500 - false_positives_2: 199819.0781 - false_negatives_2: 199819.0781 - val_loss: 0.3508 - val_precision_2: 0.9210 - val_accuracy: 0.8551 - val_recall_2: 0.9210 - val_true_positives_2: 2429387.0000 - val_false_positives_2: 208442.5469 - val_false_negatives_2: 208442.5469\n",
      "Epoch 10/10\n",
      "262144/262144 [==============================] - 592s 2ms/step - loss: 0.1203 - precision_2: 0.9222 - accuracy: 0.9536 - recall_2: 0.9222 - true_positives_2: 2568349.7500 - false_positives_2: 216936.3281 - false_negatives_2: 216936.3281 - val_loss: 0.3678 - val_precision_2: 0.9231 - val_accuracy: 0.8500 - val_recall_2: 0.9231 - val_true_positives_2: 2707302.2500 - val_false_positives_2: 225439.4688 - val_false_negatives_2: 225439.4688\n",
      "error\n",
      "error\n",
      "error\n",
      "error\n",
      "error\n",
      "error\n",
      "{'adaptive_backpropagation316.h5': {'Accuracy:': 0.7891845703125,\n",
      "                                    'F1_score': 0.852316805456002,\n",
      "                                    'Precision:': 0.9264281988143921,\n",
      "                                    'Recall:': 0.9264281988143921},\n",
      " 'adaptive_backpropagation516.h5': {'Accuracy:': 0.787994384765625,\n",
      "                                    'F1_score': 0.8497211245566728,\n",
      "                                    'Precision:': 0.9219405055046082,\n",
      "                                    'Recall:': 0.9219405055046082},\n",
      " 'adaptive_backpropagation716.h5': {'Accuracy:': 0.81671142578125,\n",
      "                                    'F1_score': 0.8662284050219007,\n",
      "                                    'Precision:': 0.922137439250946,\n",
      "                                    'Recall:': 0.922137439250946}}\n"
     ]
    },
    {
     "data": {
      "image/png": "[encoded data removed]",
      "text/plain": [
       "<Figure size 432x288 with 1 Axes>"
      ]
     },
     "metadata": {
      "needs_background": "light"
     },
     "output_type": "display_data"
    }
   ],
   "source": [
    "# Input layer with shape of data\n",
    "input_layer = am.input_layer(shape)\n",
    "model_name = 'adaptive_backpropagation716.h5'\n",
    "\n",
    "layers = am.unet_layer(input_layer, 7, 16)\n",
    "\n",
    "# Use Unet architecture as main model\n",
    "outputs_layer = am.unet_model(layers)\n",
    "\n",
    "# Output layer\n",
    "outputs_layer = am.flatten_layer(outputs_layer)\n",
    "outputs_layer = am.output_layer(outputs_layer)\n",
    "\n",
    "# Define model\n",
    "model = am.define_model(input_layer, outputs_layer)\n",
    "\n",
    "history = train(model, x_train, y_train, x_valid, y_valid, model_name)\n",
    "evaluate(model, x_test, y_test, history, model_name, results, counter)\n",
    "pprint.pprint(results)"
   ]
  },
  {
   "cell_type": "markdown",
   "metadata": {},
   "source": [
    "## Gabor filters"
   ]
  },
  {
   "cell_type": "code",
   "execution_count": 12,
   "metadata": {
    "pycharm": {
     "name": "#%%\n"
    }
   },
   "outputs": [],
   "source": [
    "# # Input layer with shape of data\n",
    "# input_layer = am.input_layer(shape)\n",
    "# model_name = 'adaptive_gabor516.h5'\n",
    "\n",
    "# layers = am.gabor_layer(input_layer, 5, 16)\n",
    "\n",
    "# # Use Unet architecture as main model\n",
    "# outputs_layer = am.unet_model(layers)\n",
    "\n",
    "# # Output layer\n",
    "# outputs_layer = am.flatten_layer(outputs_layer)\n",
    "# outputs_layer = am.output_layer(outputs_layer)\n",
    "\n",
    "# # Define model \n",
    "# model = am.define_model(input_layer, outputs_layer)\n",
    "\n",
    "# # Add filters from gabor function\n",
    "# weights, filters = am.gabor_filter(model)\n",
    "# model.layers[1].set_weights(weights)\n",
    "\n",
    "# history = train(model, x_train, y_train, x_valid, y_valid, model_name)\n",
    "# evaluate(model, x_test, y_test, history, model_name, results, counter)\n",
    "# pprint.pprint(results)"
   ]
  },
  {
   "cell_type": "code",
   "execution_count": 13,
   "metadata": {
    "pycharm": {
     "name": "#%%\n"
    }
   },
   "outputs": [],
   "source": [
    "# # Input layer with shape of data\n",
    "# input_layer = am.input_layer(shape)\n",
    "# model_name = 'adaptive_gabor716.h5'\n",
    "\n",
    "# layers = am.gabor_layer(input_layer, 7, 16)\n",
    "\n",
    "# # Use Unet architecture as main model\n",
    "# outputs_layer = am.unet_model(layers)\n",
    "\n",
    "# # Output layer\n",
    "# outputs_layer = am.flatten_layer(outputs_layer)\n",
    "# outputs_layer = am.output_layer(outputs_layer)\n",
    "\n",
    "# # Define model \n",
    "# model = am.define_model(input_layer, outputs_layer)\n",
    "\n",
    "# # Add filters from gabor function\n",
    "# weights, filters = am.gabor_filter(model)\n",
    "# model.layers[1].set_weights(weights)\n",
    "\n",
    "# history = train(model, x_train, y_train, x_valid, y_valid, model_name)\n",
    "# evaluate(model, x_test, y_test, history, model_name, results, counter)\n",
    "# pprint.pprint(results)"
   ]
  },
  {
   "cell_type": "code",
   "execution_count": 14,
   "metadata": {
    "pycharm": {
     "name": "#%%\n"
    }
   },
   "outputs": [],
   "source": [
    "# # Input layer with shape of data\n",
    "# input_layer = am.input_layer(shape)\n",
    "# model_name = 'adaptive_gabor916.h5'\n",
    "\n",
    "# layers = am.gabor_layer(input_layer, 9, 16) \n",
    "\n",
    "# # Use Unet architecture as main model\n",
    "# outputs_layer = am.unet_model(layers)\n",
    "\n",
    "# # Output layer\n",
    "# outputs_layer = am.flatten_layer(outputs_layer)\n",
    "# outputs_layer = am.output_layer(outputs_layer)\n",
    "\n",
    "# # Define model \n",
    "# model = am.define_model(input_layer, outputs_layer)\n",
    "\n",
    "# # Add filters from gabor function\n",
    "# weights, filters = am.gabor_filter(model)\n",
    "# model.layers[1].set_weights(weights)\n",
    "\n",
    "# history = train(model, x_train, y_train, x_valid, y_valid, model_name)\n",
    "# evaluate(model, x_test, y_test, history, model_name, results, counter)\n",
    "# pprint.pprint(results)"
   ]
  },
  {
   "cell_type": "code",
   "execution_count": 15,
   "metadata": {
    "scrolled": false
   },
   "outputs": [],
   "source": [
    "# # Input layer with shape of data\n",
    "# input_layer = am.input_layer(shape)\n",
    "# model_name = 'adaptive_gabor516.h5'\n",
    "\n",
    "# layers = am.gabor_layer(input_layer, 5, 16)\n",
    "\n",
    "# # Use Unet architecture as main model\n",
    "# outputs_layer = am.unet_model(layers)\n",
    "\n",
    "# # Output layer\n",
    "# outputs_layer = am.flatten_layer(outputs_layer)\n",
    "# outputs_layer = am.output_layer(outputs_layer)\n",
    "\n",
    "# # Define model\n",
    "# model = am.define_model(input_layer, outputs_layer)\n",
    "\n",
    "# # Add filters from gabor function\n",
    "# weights, filters = am.gabor_filter(model)\n",
    "# model.layers[1].set_weights(weights)\n",
    "\n",
    "# history = train(model, x_train, y_train, x_valid, y_valid, model_name)\n",
    "# evaluate(model, x_test, y_test, history, model_name, results, counter)\n",
    "# pprint.pprint(results)"
   ]
  },
  {
   "cell_type": "code",
   "execution_count": 16,
   "metadata": {
    "scrolled": false
   },
   "outputs": [],
   "source": [
    "# # Input layer with shape of data\n",
    "# input_layer = am.input_layer(shape)\n",
    "# model_name = 'adaptive_gabor716.h5'\n",
    "\n",
    "# layers = am.gabor_layer(input_layer, 7, 16)\n",
    "\n",
    "# # Use Unet architecture as main model\n",
    "# outputs_layer = am.unet_model(layers)\n",
    "\n",
    "# # Output layer\n",
    "# outputs_layer = am.flatten_layer(outputs_layer)\n",
    "# outputs_layer = am.output_layer(outputs_layer)\n",
    "\n",
    "# # Define model\n",
    "# model = am.define_model(input_layer, outputs_layer)\n",
    "\n",
    "# # Add filters from gabor function\n",
    "# weights, filters = am.gabor_filter(model)\n",
    "# model.layers[1].set_weights(weights)\n",
    "\n",
    "# history = train(model, x_train, y_train, x_valid, y_valid, model_name)\n",
    "# evaluate(model, x_test, y_test, history, model_name, results, counter)\n",
    "# pprint.pprint(results)"
   ]
  },
  {
   "cell_type": "code",
   "execution_count": 17,
   "metadata": {
    "scrolled": false
   },
   "outputs": [],
   "source": [
    "# # Input layer with shape of data\n",
    "# input_layer = am.input_layer(shape)\n",
    "# model_name = 'adaptive_gabor916.h5'\n",
    "\n",
    "# layers = am.gabor_layer(input_layer, 9, 16)\n",
    "\n",
    "# # Use Unet architecture as main model\n",
    "# outputs_layer = am.unet_model(layers)\n",
    "\n",
    "# # Output layer\n",
    "# outputs_layer = am.flatten_layer(outputs_layer)\n",
    "# outputs_layer = am.output_layer(outputs_layer)\n",
    "\n",
    "# # Define model\n",
    "# model = am.define_model(input_layer, outputs_layer)\n",
    "\n",
    "# # Add filters from gabor function\n",
    "# weights, filters = am.gabor_filter(model)\n",
    "# model.layers[1].set_weights(weights)\n",
    "\n",
    "# history = train(model, x_train, y_train, x_valid, y_valid, model_name)\n",
    "# evaluate(model, x_test, y_test, history, model_name, results, counter)\n",
    "# pprint.pprint(results)\n"
   ]
  },
  {
   "cell_type": "code",
   "execution_count": 18,
   "metadata": {
    "pycharm": {
     "name": "#%%\n"
    }
   },
   "outputs": [],
   "source": [
    "# # Input layer with shape of data\n",
    "# input_layer = am.input_layer(shape)\n",
    "# model_name = 'adaptive_gabor516.h5'\n",
    "\n",
    "# layers = am.gabor_layer(input_layer, 5, 16)\n",
    "\n",
    "# # Use Unet architecture as main model\n",
    "# outputs_layer = am.unet_model(layers)\n",
    "\n",
    "# # Output layer\n",
    "# outputs_layer = am.flatten_layer(outputs_layer)\n",
    "# outputs_layer = am.output_layer(outputs_layer)\n",
    "\n",
    "# # Define model\n",
    "# model = am.define_model(input_layer, outputs_layer)\n",
    "\n",
    "# # Add filters from gabor function\n",
    "# weights, filters = am.gabor_filter(model)\n",
    "# model.layers[1].set_weights(weights)\n",
    "\n",
    "# history = train(model, x_train, y_train, x_valid, y_valid, model_name)\n",
    "# evaluate(model, x_test, y_test, history, model_name, results, counter)\n",
    "# pprint.pprint(results)"
   ]
  },
  {
   "cell_type": "code",
   "execution_count": 19,
   "metadata": {
    "pycharm": {
     "name": "#%%\n"
    }
   },
   "outputs": [],
   "source": [
    "# # Input layer with shape of data\n",
    "# input_layer = am.input_layer(shape)\n",
    "# model_name = 'adaptive_gabor716.h5'\n",
    "\n",
    "# layers = am.gabor_layer(input_layer, 7, 16)\n",
    "\n",
    "# # Use Unet architecture as main model\n",
    "# outputs_layer = am.unet_model(layers)\n",
    "\n",
    "# # Output layer\n",
    "# outputs_layer = am.flatten_layer(outputs_layer)\n",
    "# outputs_layer = am.output_layer(outputs_layer)\n",
    "\n",
    "# # Define model\n",
    "# model = am.define_model(input_layer, outputs_layer)\n",
    "\n",
    "# # Add filters from gabor function\n",
    "# weights, filters = am.gabor_filter(model)\n",
    "# model.layers[1].set_weights(weights)\n",
    "\n",
    "# history = train(model, x_train, y_train, x_valid, y_valid, model_name)\n",
    "# evaluate(model, x_test, y_test, history, model_name, results, counter)\n",
    "# pprint.pprint(results)"
   ]
  },
  {
   "cell_type": "code",
   "execution_count": 20,
   "metadata": {
    "pycharm": {
     "name": "#%%\n"
    },
    "scrolled": false
   },
   "outputs": [],
   "source": [
    "# # Input layer with shape of data\n",
    "# input_layer = am.input_layer(shape)\n",
    "# model_name = 'adaptive_gabor916.h5'\n",
    "\n",
    "# layers = am.gabor_layer(input_layer, 9, 16)\n",
    "\n",
    "# # Use Unet architecture as main model\n",
    "# outputs_layer = am.unet_model(layers)\n",
    "\n",
    "# # Output layer\n",
    "# outputs_layer = am.flatten_layer(outputs_layer)\n",
    "# outputs_layer = am.output_layer(outputs_layer)\n",
    "\n",
    "# # Define model\n",
    "# model = am.define_model(input_layer, outputs_layer)\n",
    "\n",
    "# # Add filters from gabor function\n",
    "# weights, filters = am.gabor_filter(model)\n",
    "# model.layers[1].set_weights(weights)\n",
    "\n",
    "# history = train(model, x_train, y_train, x_valid, y_valid, model_name)\n",
    "# evaluate(model, x_test, y_test, history, model_name, results, counter)\n",
    "# pprint.pprint(results)"
   ]
  },
  {
   "cell_type": "markdown",
   "metadata": {},
   "source": [
    "## Autoencoder"
   ]
  },
  {
   "cell_type": "code",
   "execution_count": 21,
   "metadata": {
    "pycharm": {
     "name": "#%%\n"
    }
   },
   "outputs": [
    {
     "name": "stdout",
     "output_type": "stream",
     "text": [
      "Train on 262144 samples, validate on 32768 samples\n",
      "Epoch 1/10\n",
      "262144/262144 [==============================] - 942s 4ms/step - loss: 0.3203 - precision_3: 0.8102 - accuracy: 0.8632 - recall_3: 0.8102 - true_positives_3: 110465.4141 - false_positives_3: 20614.5039 - false_negatives_3: 20614.5039 - val_loss: 0.4603 - val_precision_3: 0.8600 - val_accuracy: 0.8056 - val_recall_3: 0.8600 - val_true_positives_3: 239521.6719 - val_false_positives_3: 39012.2344 - val_false_negatives_3: 39012.2344\n",
      "Epoch 2/10\n",
      "262144/262144 [==============================] - 939s 4ms/step - loss: 0.2463 - precision_3: 0.8689 - accuracy: 0.9019 - recall_3: 0.8689 - true_positives_3: 370597.8125 - false_positives_3: 55394.0195 - false_negatives_3: 55394.0195 - val_loss: 0.4609 - val_precision_3: 0.8759 - val_accuracy: 0.8000 - val_recall_3: 0.8759 - val_true_positives_3: 502249.3438 - val_false_positives_3: 71196.7031 - val_false_negatives_3: 71196.7031\n",
      "Epoch 3/10\n",
      "262144/262144 [==============================] - 940s 4ms/step - loss: 0.2217 - precision_3: 0.8801 - accuracy: 0.9128 - recall_3: 0.8801 - true_positives_3: 634779.6875 - false_positives_3: 86124.9531 - false_negatives_3: 86124.9531 - val_loss: 0.4702 - val_precision_3: 0.8841 - val_accuracy: 0.7963 - val_recall_3: 0.8841 - val_true_positives_3: 767663.7500 - val_false_positives_3: 100693.9922 - val_false_negatives_3: 100693.9922\n",
      "Epoch 4/10\n",
      "262144/262144 [==============================] - 941s 4ms/step - loss: 0.1999 - precision_3: 0.8872 - accuracy: 0.9218 - recall_3: 0.8872 - true_positives_3: 901446.6875 - false_positives_3: 114368.5469 - false_negatives_3: 114368.5469 - val_loss: 0.4174 - val_precision_3: 0.8905 - val_accuracy: 0.8234 - val_recall_3: 0.8905 - val_true_positives_3: 1035848.8750 - val_false_positives_3: 127421.2188 - val_false_negatives_3: 127421.2188\n",
      "Epoch 5/10\n",
      "262144/262144 [==============================] - 940s 4ms/step - loss: 0.1823 - precision_3: 0.8933 - accuracy: 0.9290 - recall_3: 0.8933 - true_positives_3: 1170992.2500 - false_positives_3: 139736.1562 - false_negatives_3: 139736.1562 - val_loss: 0.4019 - val_precision_3: 0.8959 - val_accuracy: 0.8256 - val_recall_3: 0.8959 - val_true_positives_3: 1306382.5000 - val_false_positives_3: 151799.9688 - val_false_negatives_3: 151799.9688\n",
      "Epoch 6/10\n",
      "262144/262144 [==============================] - 940s 4ms/step - loss: 0.1683 - precision_3: 0.8983 - accuracy: 0.9348 - recall_3: 0.8983 - true_positives_3: 1442395.3750 - false_positives_3: 163246.1094 - false_negatives_3: 163246.1094 - val_loss: 0.4060 - val_precision_3: 0.9004 - val_accuracy: 0.8226 - val_recall_3: 0.9004 - val_true_positives_3: 1578455.5000 - val_false_positives_3: 174638.7344 - val_false_negatives_3: 174638.7344\n",
      "Epoch 7/10\n",
      "262144/262144 [==============================] - 940s 4ms/step - loss: 0.1556 - precision_3: 0.9024 - accuracy: 0.9394 - recall_3: 0.9024 - true_positives_3: 1715063.5000 - false_positives_3: 185490.7188 - false_negatives_3: 185490.7188 - val_loss: 0.6847 - val_precision_3: 0.9038 - val_accuracy: 0.7747 - val_recall_3: 0.9038 - val_true_positives_3: 1850915.1250 - val_false_positives_3: 197092.1719 - val_false_negatives_3: 197092.1719\n",
      "Epoch 8/10\n",
      "262144/262144 [==============================] - 946s 4ms/step - loss: 0.1460 - precision_3: 0.9051 - accuracy: 0.9437 - recall_3: 0.9051 - true_positives_3: 1987338.3750 - false_positives_3: 208126.4062 - false_negatives_3: 208126.4062 - val_loss: 0.5966 - val_precision_3: 0.9066 - val_accuracy: 0.8032 - val_recall_3: 0.9066 - val_true_positives_3: 2124168.2500 - val_false_positives_3: 218749.7031 - val_false_negatives_3: 218749.7031\n",
      "Epoch 9/10\n",
      "262144/262144 [==============================] - 944s 4ms/step - loss: 0.1372 - precision_3: 0.9081 - accuracy: 0.9472 - recall_3: 0.9081 - true_positives_3: 2261423.0000 - false_positives_3: 228946.2812 - false_negatives_3: 228946.2812 - val_loss: 0.7107 - val_precision_3: 0.9090 - val_accuracy: 0.7457 - val_recall_3: 0.9090 - val_true_positives_3: 2397848.2500 - val_false_positives_3: 239982.3281 - val_false_negatives_3: 239982.3281\n",
      "Epoch 10/10\n",
      "262144/262144 [==============================] - 942s 4ms/step - loss: 0.1305 - precision_3: 0.9100 - accuracy: 0.9498 - recall_3: 0.9100 - true_positives_3: 2534589.5000 - false_positives_3: 250703.7500 - false_negatives_3: 250703.7500 - val_loss: 0.7143 - val_precision_3: 0.9109 - val_accuracy: 0.7621 - val_recall_3: 0.9109 - val_true_positives_3: 2671488.2500 - val_false_positives_3: 261258.5312 - val_false_negatives_3: 261258.5312\n",
      "error\n",
      "error\n",
      "error\n",
      "error\n",
      "error\n",
      "error\n",
      "{'adaptive_autoencoder316.h5': {'Accuracy:': 0.7232666015625,\n",
      "                                'F1_score': 0.8055965876718483,\n",
      "                                'Precision:': 0.9090777039527893,\n",
      "                                'Recall:': 0.9090777039527893},\n",
      " 'adaptive_backpropagation316.h5': {'Accuracy:': 0.7891845703125,\n",
      "                                    'F1_score': 0.852316805456002,\n",
      "                                    'Precision:': 0.9264281988143921,\n",
      "                                    'Recall:': 0.9264281988143921},\n",
      " 'adaptive_backpropagation516.h5': {'Accuracy:': 0.787994384765625,\n",
      "                                    'F1_score': 0.8497211245566728,\n",
      "                                    'Precision:': 0.9219405055046082,\n",
      "                                    'Recall:': 0.9219405055046082},\n",
      " 'adaptive_backpropagation716.h5': {'Accuracy:': 0.81671142578125,\n",
      "                                    'F1_score': 0.8662284050219007,\n",
      "                                    'Precision:': 0.922137439250946,\n",
      "                                    'Recall:': 0.922137439250946}}\n"
     ]
    },
    {
     "data": {
      "image/png": "[encoded data removed]",
      "text/plain": [
       "<Figure size 432x288 with 1 Axes>"
      ]
     },
     "metadata": {
      "needs_background": "light"
     },
     "output_type": "display_data"
    }
   ],
   "source": [
    "# Input layer with shape of data\n",
    "input_layer = am.input_layer(shape)\n",
    "model_name = 'adaptive_autoencoder316.h5'\n",
    "\n",
    "layers = am.encoder_layer(input_layer, 3, 16)\n",
    "\n",
    "# Use Unet architecture as main model\n",
    "outputs_layer = am.unet_model(layers)\n",
    "\n",
    "# Output layer\n",
    "outputs_layer = am.flatten_layer(outputs_layer)\n",
    "outputs_layer = am.output_layer(outputs_layer)\n",
    "\n",
    "# Define model\n",
    "model = am.define_model(input_layer, outputs_layer)\n",
    "\n",
    "history = train(model, x_train, y_train, x_valid, y_valid, model_name)\n",
    "evaluate(model, x_test, y_test, history, model_name, results, counter)\n",
    "pprint.pprint(results)"
   ]
  },
  {
   "cell_type": "code",
   "execution_count": 9,
   "metadata": {
    "scrolled": false
   },
   "outputs": [
    {
     "name": "stdout",
     "output_type": "stream",
     "text": [
      "Train on 262144 samples, validate on 32768 samples\n",
      "Epoch 1/10\n",
      "262144/262144 [==============================] - 1033s 4ms/step - loss: 0.3788 - precision: 0.7816 - accuracy: 0.8342 - recall: 0.7816 - true_positives: 106376.6406 - false_positives: 24703.1523 - false_negatives: 24703.1523 - val_loss: 0.8395 - val_precision: 0.8097 - val_accuracy: 0.4148 - val_recall: 0.8097 - val_true_positives: 225397.0625 - val_false_positives: 53136.7852 - val_false_negatives: 53136.7852\n",
      "Epoch 2/10\n",
      "262144/262144 [==============================] - 1011s 4ms/step - loss: 0.2922 - precision: 0.8130 - accuracy: 0.8798 - recall: 0.8130 - true_positives: 347264.8125 - false_positives: 78726.9219 - false_negatives: 78726.9219 - val_loss: 1.2258 - val_precision: 0.8228 - val_accuracy: 0.5434 - val_recall: 0.8228 - val_true_positives: 471772.9688 - val_false_positives: 101673.0547 - val_false_negatives: 101673.0547\n",
      "Epoch 3/10\n",
      "262144/262144 [==============================] - 1017s 4ms/step - loss: 0.2742 - precision: 0.8275 - accuracy: 0.8882 - recall: 0.8275 - true_positives: 597027.6250 - false_positives: 123876.2266 - false_negatives: 123876.2266 - val_loss: 0.6403 - val_precision: 0.8341 - val_accuracy: 0.6577 - val_recall: 0.8341 - val_true_positives: 724300.8125 - val_false_positives: 144056.7969 - val_false_negatives: 144056.7969\n",
      "Epoch 4/10\n",
      "262144/262144 [==============================] - 1083s 4ms/step - loss: 0.2648 - precision: 0.8384 - accuracy: 0.8923 - recall: 0.8384 - true_positives: 851986.1250 - false_positives: 163830.9219 - false_negatives: 163830.9219 - val_loss: 0.7563 - val_precision: 0.8415 - val_accuracy: 0.6040 - val_recall: 0.8415 - val_true_positives: 978921.7500 - val_false_positives: 184347.1719 - val_false_negatives: 184347.1719\n",
      "Epoch 5/10\n",
      "262144/262144 [==============================] - 1108s 4ms/step - loss: 0.2574 - precision: 0.8436 - accuracy: 0.8955 - recall: 0.8436 - true_positives: 1106007.2500 - false_positives: 204723.9844 - false_negatives: 204723.9844 - val_loss: 0.5979 - val_precision: 0.8467 - val_accuracy: 0.6805 - val_recall: 0.8467 - val_true_positives: 1234692.2500 - val_false_positives: 223489.3906 - val_false_negatives: 223489.3906\n",
      "Epoch 6/10\n",
      "262144/262144 [==============================] - 1102s 4ms/step - loss: 0.2493 - precision: 0.8491 - accuracy: 0.8996 - recall: 0.8491 - true_positives: 1363576.8750 - false_positives: 242065.6875 - false_negatives: 242065.6875 - val_loss: 0.7343 - val_precision: 0.8512 - val_accuracy: 0.6401 - val_recall: 0.8512 - val_true_positives: 1492160.0000 - val_false_positives: 260935.1719 - val_false_negatives: 260935.1719\n",
      "Epoch 7/10\n",
      "262144/262144 [==============================] - 1117s 4ms/step - loss: 0.2421 - precision: 0.8528 - accuracy: 0.9026 - recall: 0.8528 - true_positives: 1620914.5000 - false_positives: 279635.8750 - false_negatives: 279635.8750 - val_loss: 1.1397 - val_precision: 0.8541 - val_accuracy: 0.6098 - val_recall: 0.8541 - val_true_positives: 1749246.2500 - val_false_positives: 298759.7812 - val_false_negatives: 298759.7812\n",
      "Epoch 8/10\n",
      "262144/262144 [==============================] - 1089s 4ms/step - loss: 0.2325 - precision: 0.8553 - accuracy: 0.9064 - recall: 0.8553 - true_positives: 1878125.7500 - false_positives: 317330.5000 - false_negatives: 317330.5000 - val_loss: 0.8629 - val_precision: 0.8566 - val_accuracy: 0.6177 - val_recall: 0.8566 - val_true_positives: 2006934.1250 - val_false_positives: 335984.0000 - val_false_negatives: 335984.0000\n",
      "Epoch 9/10\n",
      "262144/262144 [==============================] - 1085s 4ms/step - loss: 0.2240 - precision: 0.8577 - accuracy: 0.9103 - recall: 0.8577 - true_positives: 2136362.0000 - false_positives: 354014.6562 - false_negatives: 354014.6562 - val_loss: 0.9092 - val_precision: 0.8591 - val_accuracy: 0.6353 - val_recall: 0.8591 - val_true_positives: 2266107.7500 - val_false_positives: 371721.4062 - val_false_negatives: 371721.4062\n",
      "Epoch 10/10\n",
      "262144/262144 [==============================] - 1098s 4ms/step - loss: 0.2155 - precision: 0.8603 - accuracy: 0.9140 - recall: 0.8603 - true_positives: 2396294.2500 - false_positives: 389005.0000 - false_negatives: 389005.0000 - val_loss: 0.8294 - val_precision: 0.8617 - val_accuracy: 0.6727 - val_recall: 0.8617 - val_true_positives: 2527158.2500 - val_false_positives: 405580.8438 - val_false_negatives: 405580.8438\n",
      "error\n",
      "error\n",
      "error\n",
      "error\n",
      "error\n",
      "error\n",
      "{'adaptive_autoencoder516.h5': {'Accuracy:': 0.6474609375,\n",
      "                                'F1_score': 0.7385572653740514,\n",
      "                                'Precision:': 0.8594850301742554,\n",
      "                                'Recall:': 0.8594850301742554}}\n"
     ]
    },
    {
     "data": {
      "image/png": "[encoded data removed]",
      "text/plain": [
       "<Figure size 432x288 with 1 Axes>"
      ]
     },
     "metadata": {
      "needs_background": "light"
     },
     "output_type": "display_data"
    }
   ],
   "source": [
    "# Input layer with shape of data\n",
    "input_layer = am.input_layer(shape)\n",
    "model_name = 'adaptive_autoencoder516.h5'\n",
    "\n",
    "\n",
    "layers = am.encoder_layer(input_layer, 5, 16)\n",
    "\n",
    "# Use Unet architecture as main model\n",
    "outputs_layer = am.unet_model(layers)\n",
    "\n",
    "# Output layer\n",
    "outputs_layer = am.flatten_layer(outputs_layer)\n",
    "outputs_layer = am.output_layer(outputs_layer)\n",
    "\n",
    "# Define model\n",
    "model = am.define_model(input_layer, outputs_layer)\n",
    "\n",
    "history = train(model, x_train, y_train, x_valid, y_valid, model_name)\n",
    "evaluate(model, x_test, y_test, history, model_name, results, counter)\n",
    "pprint.pprint(results)"
   ]
  },
  {
   "cell_type": "code",
   "execution_count": 10,
   "metadata": {
    "pycharm": {
     "name": "#%%\n"
    }
   },
   "outputs": [
    {
     "name": "stdout",
     "output_type": "stream",
     "text": [
      "Train on 262144 samples, validate on 32768 samples\n",
      "Epoch 1/10\n",
      "262144/262144 [==============================] - 1077s 4ms/step - loss: 0.4480 - precision_1: 0.7478 - accuracy: 0.7969 - recall_1: 0.7478 - true_positives_1: 101429.1953 - false_positives_1: 29650.7422 - false_negatives_1: 29650.7422 - val_loss: 0.5462 - val_precision_1: 0.7930 - val_accuracy: 0.7288 - val_recall_1: 0.7930 - val_true_positives_1: 220856.5625 - val_false_positives_1: 57677.1602 - val_false_negatives_1: 57677.1602\n",
      "Epoch 2/10\n",
      "262144/262144 [==============================] - 1112s 4ms/step - loss: 0.2911 - precision_1: 0.8137 - accuracy: 0.8789 - recall_1: 0.8137 - true_positives_1: 347521.5625 - false_positives_1: 78470.3047 - false_negatives_1: 78470.3047 - val_loss: 0.5518 - val_precision_1: 0.8282 - val_accuracy: 0.7119 - val_recall_1: 0.8282 - val_true_positives_1: 474900.0000 - val_false_positives_1: 98545.7344 - val_false_negatives_1: 98545.7344\n",
      "Epoch 3/10\n",
      "262144/262144 [==============================] - 1110s 4ms/step - loss: 0.2657 - precision_1: 0.8363 - accuracy: 0.8925 - recall_1: 0.8363 - true_positives_1: 603318.2500 - false_positives_1: 117584.8516 - false_negatives_1: 117584.8516 - val_loss: 0.4582 - val_precision_1: 0.8445 - val_accuracy: 0.7810 - val_recall_1: 0.8445 - val_true_positives_1: 733290.6875 - val_false_positives_1: 135066.9375 - val_false_negatives_1: 135066.9375\n",
      "Epoch 4/10\n",
      "262144/262144 [==============================] - 1168s 4ms/step - loss: 0.2505 - precision_1: 0.8502 - accuracy: 0.8991 - recall_1: 0.8502 - true_positives_1: 863906.3125 - false_positives_1: 151910.2656 - false_negatives_1: 151910.2656 - val_loss: 0.4704 - val_precision_1: 0.8551 - val_accuracy: 0.7879 - val_recall_1: 0.8551 - val_true_positives_1: 994721.1875 - val_false_positives_1: 168548.3906 - val_false_negatives_1: 168548.3906\n",
      "Epoch 5/10\n",
      "262144/262144 [==============================] - 1105s 4ms/step - loss: 0.2384 - precision_1: 0.8590 - accuracy: 0.9050 - recall_1: 0.8590 - true_positives_1: 1126135.8750 - false_positives_1: 184592.4531 - false_negatives_1: 184592.4531 - val_loss: 0.4893 - val_precision_1: 0.8626 - val_accuracy: 0.7880 - val_recall_1: 0.8626 - val_true_positives_1: 1257766.2500 - val_false_positives_1: 200415.8594 - val_false_negatives_1: 200415.8594\n",
      "Epoch 6/10\n",
      "262144/262144 [==============================] - 1141s 4ms/step - loss: 0.2246 - precision_1: 0.8656 - accuracy: 0.9115 - recall_1: 0.8656 - true_positives_1: 1389934.6250 - false_positives_1: 215706.5469 - false_negatives_1: 215706.5469 - val_loss: 0.4534 - val_precision_1: 0.8686 - val_accuracy: 0.7977 - val_recall_1: 0.8686 - val_true_positives_1: 1522681.7500 - val_false_positives_1: 230410.9688 - val_false_negatives_1: 230410.9688\n",
      "Epoch 7/10\n",
      "262144/262144 [==============================] - 1176s 4ms/step - loss: 0.2123 - precision_1: 0.8711 - accuracy: 0.9164 - recall_1: 0.8711 - true_positives_1: 1655749.0000 - false_positives_1: 244797.9844 - false_negatives_1: 244797.9844 - val_loss: 0.4706 - val_precision_1: 0.8734 - val_accuracy: 0.7770 - val_recall_1: 0.8734 - val_true_positives_1: 1788726.1250 - val_false_positives_1: 259279.2656 - val_false_negatives_1: 259279.2656\n",
      "Epoch 8/10\n",
      "262144/262144 [==============================] - 1167s 4ms/step - loss: 0.2022 - precision_1: 0.8753 - accuracy: 0.9207 - recall_1: 0.8753 - true_positives_1: 1922040.3750 - false_positives_1: 273423.5312 - false_negatives_1: 273423.5312 - val_loss: 0.4609 - val_precision_1: 0.8774 - val_accuracy: 0.7808 - val_recall_1: 0.8774 - val_true_positives_1: 2055573.0000 - val_false_positives_1: 287345.9375 - val_false_negatives_1: 287345.9375\n",
      "Epoch 9/10\n",
      "262144/262144 [==============================] - 1057s 4ms/step - loss: 0.1918 - precision_1: 0.8791 - accuracy: 0.9251 - recall_1: 0.8791 - true_positives_1: 2189462.5000 - false_positives_1: 300911.3438 - false_negatives_1: 300911.3438 - val_loss: 0.4876 - val_precision_1: 0.8809 - val_accuracy: 0.7748 - val_recall_1: 0.8809 - val_true_positives_1: 2323582.7500 - val_false_positives_1: 314252.0938 - val_false_negatives_1: 314252.0938\n",
      "Epoch 10/10\n",
      "262144/262144 [==============================] - 1053s 4ms/step - loss: 0.1824 - precision_1: 0.8825 - accuracy: 0.9284 - recall_1: 0.8825 - true_positives_1: 2457999.0000 - false_positives_1: 327290.0938 - false_negatives_1: 327290.0938 - val_loss: 0.4806 - val_precision_1: 0.8840 - val_accuracy: 0.7832 - val_recall_1: 0.8840 - val_true_positives_1: 2592487.5000 - val_false_positives_1: 340253.1875 - val_false_negatives_1: 340253.1875\n",
      "error\n",
      "error\n",
      "error\n",
      "error\n",
      "error\n",
      "error\n",
      "{'adaptive_autoencoder516.h5': {'Accuracy:': 0.5345458984375,\n",
      "                                'F1_score': 0.6605680463778415,\n",
      "                                'Precision:': 0.8643414378166199,\n",
      "                                'Recall:': 0.8643414378166199},\n",
      " 'adaptive_autoencoder716.h5': {'Accuracy:': 0.767852783203125,\n",
      "                                'F1_score': 0.8213175452574426,\n",
      "                                'Precision:': 0.8827850222587585,\n",
      "                                'Recall:': 0.8827850222587585}}\n"
     ]
    },
    {
     "data": {
      "image/png": "[encoded data removed]",
      "text/plain": [
       "<Figure size 432x288 with 1 Axes>"
      ]
     },
     "metadata": {
      "needs_background": "light"
     },
     "output_type": "display_data"
    }
   ],
   "source": [
    "# Input layer with shape of data\n",
    "input_layer = am.input_layer(shape)\n",
    "model_name = 'adaptive_autoencoder716.h5'\n",
    "\n",
    "layers = am.encoder_layer(input_layer, 7, 16)\n",
    "\n",
    "# Use Unet architecture as main model\n",
    "outputs_layer = am.unet_model(layers)\n",
    "\n",
    "# Output layer\n",
    "outputs_layer = am.flatten_layer(outputs_layer)\n",
    "outputs_layer = am.output_layer(outputs_layer)\n",
    "\n",
    "# Define model\n",
    "model = am.define_model(input_layer, outputs_layer)\n",
    "\n",
    "history = train(model, x_train, y_train, x_valid, y_valid, model_name)\n",
    "evaluate(model, x_test, y_test, history, model_name, results, counter)\n",
    "pprint.pprint(results)"
   ]
  },
  {
   "cell_type": "code",
   "execution_count": null,
   "metadata": {},
   "outputs": [],
   "source": []
  }
 ],
 "metadata": {
  "kernelspec": {
   "display_name": "PyCharm (Bachelor)",
   "language": "python",
   "name": "pycharm-d3bc82fa"
  },
  "language_info": {
   "codemirror_mode": {
    "name": "ipython",
    "version": 3
   },
   "file_extension": ".py",
   "mimetype": "text/x-python",
   "name": "python",
   "nbconvert_exporter": "python",
   "pygments_lexer": "ipython3",
   "version": "3.7.4"
  }
 },
 "nbformat": 4,
 "nbformat_minor": 4
}
