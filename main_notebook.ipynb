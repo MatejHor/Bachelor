{
 "cells": [
  {
   "cell_type": "code",
   "execution_count": 1,
   "metadata": {
    "jupyter": {
     "outputs_hidden": false
    },
    "pycharm": {
     "is_executing": false,
     "name": "#%%\n"
    }
   },
   "outputs": [
    {
     "name": "stderr",
     "output_type": "stream",
     "text": [
      "Using TensorFlow backend.\n"
     ]
    }
   ],
   "source": [
    "from keras.utils import HDF5Matrix\n",
    "from keras.preprocessing.image import ImageDataGenerator\n",
    "from keras.models import Model\n",
    "from keras.utils import to_categorical\n",
    "from keras import backend as K\n",
    "import keras.callbacks as cb\n",
    "from keras.models import load_model\n",
    "from keras.layers import Input, Dense, BatchNormalization, Dropout, Conv2D, MaxPool2D, Flatten, LeakyReLU, Concatenate, GlobalAveragePooling2D, UpSampling2D\n",
    "from PIL import Image\n",
    "\n",
    "import keras\n",
    "import tensorflow\n",
    "import tensorflow.compat.v1 as tf\n",
    "\n",
    "import numpy as np\n",
    "import cv2\n",
    "import pprint\n",
    "import h5py\n",
    "import os\n",
    "import PIL\n",
    "\n",
    "import src.dagm_loader as dagm\n",
    "import src.pcam_loader as data\n",
    "import src.adaptive_model as am"
   ]
  },
  {
   "cell_type": "markdown",
   "metadata": {
    "pycharm": {
     "name": "#%% md\n"
    }
   },
   "source": [
    "# Show if tensorflow can run with GPU\n",
    "# Run tensorflow keras on multiple core"
   ]
  },
  {
   "cell_type": "code",
   "execution_count": 2,
   "metadata": {
    "pycharm": {
     "is_executing": false,
     "name": "#%%\n"
    }
   },
   "outputs": [
    {
     "name": "stdout",
     "output_type": "stream",
     "text": [
      "[name: \"/device:CPU:0\"\n",
      "device_type: \"CPU\"\n",
      "memory_limit: 268435456\n",
      "locality {\n",
      "}\n",
      "incarnation: 340575336881660196\n",
      ", name: \"/device:GPU:0\"\n",
      "device_type: \"GPU\"\n",
      "memory_limit: 4854028697\n",
      "locality {\n",
      "  bus_id: 1\n",
      "  links {\n",
      "  }\n",
      "}\n",
      "incarnation: 9031163130365660211\n",
      "physical_device_desc: \"device: 0, name: GeForce GTX 1660 Ti, pci bus id: 0000:26:00.0, compute capability: 7.5\"\n",
      "]\n",
      "Device mapping:\n",
      "/job:localhost/replica:0/task:0/device:GPU:0 -> device: 0, name: GeForce GTX 1660 Ti, pci bus id: 0000:26:00.0, compute capability: 7.5\n",
      "\n"
     ]
    }
   ],
   "source": [
    "from tensorflow.python.client import device_lib\n",
    "print(device_lib.list_local_devices())\n",
    "sess = tf.Session(config=tf.ConfigProto(log_device_placement=True))"
   ]
  },
  {
   "cell_type": "code",
   "execution_count": 3,
   "metadata": {},
   "outputs": [],
   "source": [
    "# dagm.create_dataset('./data/DAGM_KaggleUpload/Class6/Train/', 'Train', 96)\n",
    "# dagm.create_dataset('./data/DAGM_KaggleUpload/Class6/Test/', 'Test', 96)"
   ]
  },
  {
   "cell_type": "markdown",
   "metadata": {},
   "source": [
    "# Load DAGM data"
   ]
  },
  {
   "cell_type": "code",
   "execution_count": 4,
   "metadata": {},
   "outputs": [],
   "source": [
    "x_train, y_train = dagm.load_dataset('Train', 'data')\n",
    "x_test, y_test = dagm.load_dataset('Test', 'data')"
   ]
  },
  {
   "cell_type": "code",
   "execution_count": 5,
   "metadata": {},
   "outputs": [],
   "source": [
    "x_valid_length = round(len(x_test)/2)\n",
    "\n",
    "x_valid = np.array(x_test[x_valid_length:])\n",
    "x_test = np.array(x_test[:x_valid_length])\n",
    "\n",
    "y_valid = y_test[x_valid_length:]\n",
    "y_test = y_test[:x_valid_length]"
   ]
  },
  {
   "cell_type": "code",
   "execution_count": 6,
   "metadata": {},
   "outputs": [
    {
     "name": "stdout",
     "output_type": "stream",
     "text": [
      "Shape of train (55432, 96, 96, 1) 55432 (55432, 1)\n",
      "Shape of valid (22308, 96, 96, 1) 22308 (22308, 1)\n",
      "Shape of test (22308, 96, 96, 1) 22308 (22308, 1)\n"
     ]
    }
   ],
   "source": [
    "print('Shape of train', x_train.shape,  len(y_train), y_train.shape)\n",
    "print('Shape of valid', x_valid.shape,  len(y_valid), y_valid.shape)\n",
    "print('Shape of test', x_test.shape, len(y_test), y_test.shape)"
   ]
  },
  {
   "cell_type": "markdown",
   "metadata": {
    "pycharm": {
     "name": "#%% md\n"
    }
   },
   "source": [
    "# Load pcam data"
   ]
  },
  {
   "cell_type": "code",
   "execution_count": null,
   "metadata": {
    "pycharm": {
     "is_executing": false,
     "name": "#%%\n"
    }
   },
   "outputs": [],
   "source": [
    "# Load data from /User/Username/.keras/datasets/pcam\n",
    "dataset = data.load_data()\n",
    "x_train, y_train, meta_train =  dataset[0]\n",
    "x_valid, y_valid, meta_valid =  dataset[1]\n",
    "x_test, y_test, meta_test =  dataset[2]"
   ]
  },
  {
   "cell_type": "code",
   "execution_count": 8,
   "metadata": {
    "pycharm": {
     "is_executing": false,
     "name": "#%%\n"
    }
   },
   "outputs": [],
   "source": [
    "y_train = np.array(y_train[:])\n",
    "y_train = y_train.reshape(-1, 1)\n",
    "y_valid = np.array(y_valid[:])\n",
    "y_valid = y_valid.reshape(-1, 1)\n",
    "y_test = np.array(y_test[:])\n",
    "y_test = y_test.reshape(-1, 1)"
   ]
  },
  {
   "cell_type": "code",
   "execution_count": 6,
   "metadata": {
    "pycharm": {
     "is_executing": false,
     "name": "#%%\n"
    }
   },
   "outputs": [
    {
     "name": "stdout",
     "output_type": "stream",
     "text": [
      "   Unnamed: 0  coord_y  coord_x  tumor_patch  center_tumor_patch  \\\n",
      "0           0    63104    43648        False               False   \n",
      "1           1   148544    74048         True                True   \n",
      "2           2    64192    78912         True                True   \n",
      "3           3    98048    72128         True                True   \n",
      "4           4    27264    50688        False               False   \n",
      "\n",
      "                           wsi  \n",
      "0   camelyon16_train_tumor_104  \n",
      "1   camelyon16_train_tumor_003  \n",
      "2   camelyon16_train_tumor_089  \n",
      "3   camelyon16_train_tumor_004  \n",
      "4  camelyon16_train_normal_118   \n",
      "\n",
      "<class 'pandas.core.frame.DataFrame'>\n",
      "RangeIndex: 262144 entries, 0 to 262143\n",
      "Data columns (total 6 columns):\n",
      " #   Column              Non-Null Count   Dtype \n",
      "---  ------              --------------   ----- \n",
      " 0   Unnamed: 0          262144 non-null  int64 \n",
      " 1   coord_y             262144 non-null  int64 \n",
      " 2   coord_x             262144 non-null  int64 \n",
      " 3   tumor_patch         262144 non-null  bool  \n",
      " 4   center_tumor_patch  262144 non-null  bool  \n",
      " 5   wsi                 262144 non-null  object\n",
      "dtypes: bool(2), int64(3), object(1)\n",
      "memory usage: 8.5+ MB\n",
      "None\n",
      "\n",
      "Shape of train (262144, 96, 96, 3) 262144 (262144, 1)\n",
      "Shape of valid (32768, 96, 96, 3) 32768 (32768, 1)\n",
      "Shape of test (32768, 96, 96, 3) 32768 (32768, 1)\n"
     ]
    }
   ],
   "source": [
    "print(meta_train.head(5), '\\n')\n",
    "print(meta_train.info())\n",
    "\n",
    "# Shape of train, valid and test input are the same, don't need to preprocess\n",
    "print('\\n' + 'Shape of train', x_train.shape,  len(y_train), y_train.shape)\n",
    "print('Shape of valid', x_valid.shape,  len(y_valid), y_valid.shape)\n",
    "print('Shape of test', x_test.shape, len(y_test), y_test.shape)"
   ]
  },
  {
   "cell_type": "markdown",
   "metadata": {
    "pycharm": {
     "name": "#%% md\n"
    }
   },
   "source": [
    "# Build model"
   ]
  },
  {
   "cell_type": "code",
   "execution_count": 7,
   "metadata": {
    "pycharm": {
     "is_executing": false,
     "name": "#%%\n"
    }
   },
   "outputs": [],
   "source": [
    "batch_size = 10\n",
    "epochs = 10\n",
    "num_classes = 2\n",
    "shape = x_train[0].shape"
   ]
  },
  {
   "cell_type": "markdown",
   "metadata": {
    "pycharm": {
     "is_executing": false,
     "name": "#%% md\n"
    }
   },
   "source": [
    "## Backpropagation"
   ]
  },
  {
   "cell_type": "code",
   "execution_count": 8,
   "metadata": {},
   "outputs": [],
   "source": [
    "# Input layer with shape of data\n",
    "input_layer = am.input_layer(shape)\n",
    "model_name = 'adaptive_backpropagation332.h5'\n",
    "\n",
    "# Define specific approach\n",
    "# layers = am.unet_layer(input_layer, 7, 16) \n",
    "# layers = am.unet_layer(input_layer, 5, 16) \n",
    "# layers = am.unet_layer(input_layer, 3, 16) \n",
    "\n",
    "# layers = am.unet_layer(input_layer, 7, 32)\n",
    "# layers = am.unet_layer(input_layer, 5, 32)\n",
    "layers = am.unet_layer(input_layer, 3, 32)\n",
    "\n",
    "# layers = am.unet_layer(input_layer, 7, 64) \n",
    "# layers = am.unet_layer(input_layer, 5, 64) \n",
    "# layers = am.unet_layer(input_layer, 3, 64) \n",
    "\n",
    "# Use Unet architecture as main model\n",
    "outputs_layer = am.unet_model(layers)\n",
    "\n",
    "# Output layer\n",
    "outputs_layer = am.flatten_layer(outputs_layer)\n",
    "outputs_layer = am.output_layer(outputs_layer)\n",
    "\n",
    "# Define model \n",
    "model = am.define_model(input_layer, outputs_layer)"
   ]
  },
  {
   "cell_type": "markdown",
   "metadata": {},
   "source": [
    "## Autoencoder"
   ]
  },
  {
   "cell_type": "code",
   "execution_count": 34,
   "metadata": {},
   "outputs": [],
   "source": [
    "# Input layer with shape of data\n",
    "input_layer = am.input_layer(shape)\n",
    "model_name = 'adaptive_autoencoder332.h5'\n",
    "\n",
    "# Define specific approach\n",
    "# layers = am.encoder_layer(input_layer, 7, 16) \n",
    "# layers = am.encoder_layer(input_layer, 5, 16) \n",
    "# layers = am.encoder_layer(input_layer, 3, 16) \n",
    "\n",
    "# layers = am.encoder_layer(input_layer, 7, 32) \n",
    "# layers = am.encoder_layer(input_layer, 5, 32) \n",
    "layers = am.encoder_layer(input_layer, 3, 32)\n",
    "\n",
    "# layers = am.encoder_layer(input_layer, 7, 64) \n",
    "# layers = am.encoder_layer(input_layer, 5, 64) \n",
    "# layers = am.encoder_layer(input_layer, 3, 64) \n",
    "\n",
    "# Use Unet architecture as main model\n",
    "outputs_layer = am.unet_model(layers)\n",
    "\n",
    "# Output layer\n",
    "outputs_layer = am.flatten_layer(outputs_layer)\n",
    "outputs_layer = am.output_layer(outputs_layer)\n",
    "\n",
    "# Define model \n",
    "model = am.define_model(input_layer, outputs_layer)"
   ]
  },
  {
   "cell_type": "markdown",
   "metadata": {},
   "source": [
    "## Transfer learning"
   ]
  },
  {
   "cell_type": "code",
   "execution_count": 8,
   "metadata": {},
   "outputs": [],
   "source": [
    "from keras.applications import MobileNet\n",
    "from keras import applications\n",
    "model_name = 'adaptive_transfer.h5'\n",
    "\n",
    "# Transform data to RGB (DAGM neeeded)\n",
    "# x_train = np.ndarray(shape=(x_train.shape[0], x_train.shape[1], x_train.shape[2], 3), dtype= np.uint8) \n",
    "# x_valid = np.ndarray(shape=(x_valid.shape[0], x_valid.shape[1], x_valid.shape[2], 3), dtype= np.uint8) \n",
    "# x_test = np.ndarray(shape=(x_test.shape[0], x_test.shape[1], x_test.shape[2], 3), dtype= np.uint8) \n",
    "\n",
    "# Use ImageNet as first 'layers'\n",
    "\n",
    "# Define specific approach\n",
    "# base_model= applications.VGG16(weights = \"imagenet\", include_top=False)\n",
    "base_model= applications.resnet.ResNet152(weights = \"imagenet\", include_top=False)\n",
    "layer = base_model.output\n",
    "\n",
    "# Use Unet architecture as main model\n",
    "outputs_layer = am.unet_model(layer)\n",
    "\n",
    "# Output layer\n",
    "outputs_layer = am.transfer_layer(layer)\n",
    "outputs_layer = am.output_layer(outputs_layer)\n",
    "\n",
    "# Define model \n",
    "model = am.define_model(base_model.input, outputs_layer)\n",
    "    \n",
    "    \n",
    "# Set layer to trainable\n",
    "for layer in model.layers[:15]:\n",
    "    layer.trainable=False\n",
    "for layer in model.layers[15:]:\n",
    "    layer.trainable=True"
   ]
  },
  {
   "cell_type": "markdown",
   "metadata": {},
   "source": [
    "## Gabor kernels"
   ]
  },
  {
   "cell_type": "code",
   "execution_count": null,
   "metadata": {},
   "outputs": [],
   "source": [
    "# Input layer with shape of data\n",
    "input_layer = am.input_layer(shape)\n",
    "model_name = 'adaptive_gabor532.h5'\n",
    "\n",
    "# Define specific approach\n",
    "# layers = am.gabor_layer(input_layer, 9, 16) \n",
    "# layers = am.gabor_layer(input_layer, 7, 16) \n",
    "# layers = am.gabor_layer(input_layer, 5, 16) \n",
    "\n",
    "layers = am.gabor_layer(input_layer, 9, 32) \n",
    "# layers = am.gabor_layer(input_layer, 7, 32)\n",
    "# layers = am.gabor_layer(input_layer, 5, 32)\n",
    "\n",
    "# layers = am.gabor_layer(input_layer, 9, 64) \n",
    "# layers = am.gabor_layer(input_layer, 7, 64) \n",
    "# layers = am.gabor_layer(input_layer, 5, 64) \n",
    "\n",
    "# Use Unet architecture as main model\n",
    "outputs_layer = am.unet_model(layers)\n",
    "\n",
    "# Output layer\n",
    "outputs_layer = am.flatten_layer(outputs_layer)\n",
    "outputs_layer = am.output_layer(outputs_layer)\n",
    "\n",
    "# Define model \n",
    "model = am.define_model(input_layer, outputs_layer)\n",
    "\n",
    "# Add filters from gabor function\n",
    "weights, gabor_filters = am.gabor_filter(model)\n",
    "model.layers[1].set_weights(weights)"
   ]
  },
  {
   "cell_type": "code",
   "execution_count": null,
   "metadata": {
    "scrolled": false
   },
   "outputs": [],
   "source": [
    "# Show Filters\n",
    "f = np.asarray(gabor_filters)\n",
    "import pylab as pl\n",
    "\n",
    "\n",
    "for i in range(1,32):\n",
    "    pl.subplot(6,6,i)\n",
    "    pl.imshow(f[i],cmap=\"gray\")\n",
    "    pl.savefig('gf.png')\n",
    "pl.show()"
   ]
  },
  {
   "cell_type": "markdown",
   "metadata": {},
   "source": [
    "## Own Metrics"
   ]
  },
  {
   "cell_type": "code",
   "execution_count": 9,
   "metadata": {},
   "outputs": [],
   "source": [
    "def recall(y_true, y_pred):\n",
    "    true_positives = K.sum(K.round(K.clip(y_true * y_pred, 0, 1)))\n",
    "    possible_positives = K.sum(K.round(K.clip(y_true, 0, 1)))\n",
    "    result = true_positives / (possible_positives + K.epsilon())\n",
    "    return result\n",
    "\n",
    "\n",
    "def my_own_preci(y_true, y_pred):\n",
    "    true_positives = K.sum(K.round(K.clip(y_true * y_pred, 0, 1)))\n",
    "    predicted_positives = K.sum(K.round(K.clip(y_pred, 0, 1)))\n",
    "    result = true_positives / (predicted_positives + K.epsilon())\n",
    "    return result\n",
    "\n",
    "\n",
    "def f1_score_metrics(y_true, y_pred):\n",
    "    precision_result = precision(y_true, y_pred)\n",
    "    recall_result = recall(y_true, y_pred)\n",
    "    return 2*((precision_result*recall_result)/(precision_result+recall_result+K.epsilon()))\n",
    "\n",
    "\n",
    "def f1_score_evaluate(precision, recall):\n",
    "    return 2*((precision*recall)/(precision+recall+K.epsilon()))"
   ]
  },
  {
   "cell_type": "markdown",
   "metadata": {
    "pycharm": {
     "name": "#%% md\n"
    }
   },
   "source": [
    "### Compile and train the model"
   ]
  },
  {
   "cell_type": "code",
   "execution_count": null,
   "metadata": {
    "pycharm": {
     "name": "#%%\n"
    },
    "scrolled": true
   },
   "outputs": [],
   "source": [
    "callbacks = [\n",
    "    cb.callbacks.ModelCheckpoint(model_name, save_best_only=True)\n",
    "#     cb.callbacks.EarlyStopping(monitor = 'val_loss'),\n",
    "#     cb.callbacks.CSVLogger('model.csv', separator=',', append=False),\n",
    "]\n",
    "\n",
    "model.compile(loss=keras.losses.categorical_crossentropy, \n",
    "              optimizer=keras.optimizers.Adam(), \n",
    "              metrics=[\n",
    "                  tensorflow.keras.metrics.Precision(),\n",
    "                  'accuracy',\n",
    "                  tensorflow.keras.metrics.Recall(),\n",
    "                  tensorflow.keras.metrics.TruePositives(),\n",
    "                  tensorflow.keras.metrics.FalsePositives(),\n",
    "                  tensorflow.keras.metrics.FalseNegatives()\n",
    "                      ])"
   ]
  },
  {
   "cell_type": "code",
   "execution_count": 11,
   "metadata": {
    "pycharm": {
     "name": "#%%\n"
    }
   },
   "outputs": [
    {
     "name": "stdout",
     "output_type": "stream",
     "text": [
      "Train on 55432 samples, validate on 22308 samples\n",
      "Epoch 1/10\n",
      "55432/55432 [==============================] - 147s 3ms/step - loss: 0.2574 - precision: 0.8382 - accuracy: 0.9030 - recall: 0.8382 - true_positives: 24306.5156 - false_positives: 3418.4087 - false_negatives: 3418.4087 - val_loss: 0.2067 - val_precision: 0.9080 - val_accuracy: 0.9335 - val_recall: 0.9080 - val_true_positives: 60481.5781 - val_false_positives: 6110.2651 - val_false_negatives: 6110.2651\n",
      "Epoch 2/10\n",
      "55432/55432 [==============================] - 143s 3ms/step - loss: 0.1464 - precision: 0.9212 - accuracy: 0.9519 - recall: 0.9212 - true_positives: 97234.1016 - false_positives: 8230.8281 - false_negatives: 8230.8281 - val_loss: 0.1728 - val_precision: 0.9298 - val_accuracy: 0.9456 - val_recall: 0.9298 - val_true_positives: 134207.3281 - val_false_positives: 10124.7031 - val_false_negatives: 10124.7031\n",
      "Epoch 3/10\n",
      "55432/55432 [==============================] - 145s 3ms/step - loss: 0.1211 - precision: 0.9353 - accuracy: 0.9609 - recall: 0.9353 - true_positives: 171379.0938 - false_positives: 11825.9121 - false_negatives: 11825.9121 - val_loss: 0.1324 - val_precision: 0.9399 - val_accuracy: 0.9598 - val_recall: 0.9399 - val_true_positives: 208721.7812 - val_false_positives: 13350.1895 - val_false_negatives: 13350.1895\n",
      "Epoch 4/10\n",
      "55432/55432 [==============================] - 141s 3ms/step - loss: 0.1043 - precision: 0.9434 - accuracy: 0.9660 - recall: 0.9434 - true_positives: 246200.1094 - false_positives: 14744.7363 - false_negatives: 14744.7363 - val_loss: 0.1423 - val_precision: 0.9462 - val_accuracy: 0.9597 - val_recall: 0.9462 - val_true_positives: 283678.5938 - val_false_positives: 16133.3213 - val_false_negatives: 16133.3213\n",
      "Epoch 5/10\n",
      "55432/55432 [==============================] - 141s 3ms/step - loss: 0.0953 - precision: 0.9483 - accuracy: 0.9681 - recall: 0.9483 - true_positives: 321206.7500 - false_positives: 17478.2734 - false_negatives: 17478.2734 - val_loss: 0.1579 - val_precision: 0.9499 - val_accuracy: 0.9506 - val_recall: 0.9499 - val_true_positives: 358653.5625 - val_false_positives: 18898.2754 - val_false_negatives: 18898.2754\n",
      "Epoch 6/10\n",
      "55432/55432 [==============================] - 141s 3ms/step - loss: 0.0865 - precision: 0.9513 - accuracy: 0.9708 - recall: 0.9513 - true_positives: 396153.0312 - false_positives: 20272.0645 - false_negatives: 20272.0645 - val_loss: 0.1092 - val_precision: 0.9529 - val_accuracy: 0.9673 - val_recall: 0.9529 - val_true_positives: 433857.7812 - val_false_positives: 21434.1836 - val_false_negatives: 21434.1836\n",
      "Epoch 7/10\n",
      "55432/55432 [==============================] - 139s 3ms/step - loss: 0.0794 - precision: 0.9544 - accuracy: 0.9732 - recall: 0.9544 - true_positives: 471618.8750 - false_positives: 22545.9648 - false_negatives: 22545.9648 - val_loss: 0.1638 - val_precision: 0.9554 - val_accuracy: 0.9570 - val_recall: 0.9554 - val_true_positives: 509258.1250 - val_false_positives: 23773.8418 - val_false_negatives: 23773.8418\n",
      "Epoch 8/10\n",
      "55432/55432 [==============================] - 138s 2ms/step - loss: 0.0731 - precision: 0.9564 - accuracy: 0.9750 - recall: 0.9564 - true_positives: 546967.4375 - false_positives: 24937.2754 - false_negatives: 24937.2754 - val_loss: 0.1485 - val_precision: 0.9572 - val_accuracy: 0.9557 - val_recall: 0.9572 - val_true_positives: 584639.1250 - val_false_positives: 26132.8691 - val_false_negatives: 26132.8691\n",
      "Epoch 9/10\n",
      "55432/55432 [==============================] - 138s 2ms/step - loss: 0.0682 - precision: 0.9580 - accuracy: 0.9765 - recall: 0.9580 - true_positives: 622386.6875 - false_positives: 27258.3984 - false_negatives: 27258.3984 - val_loss: 0.1639 - val_precision: 0.9586 - val_accuracy: 0.9481 - val_recall: 0.9586 - val_true_positives: 660008.2500 - val_false_positives: 28503.5840 - val_false_negatives: 28503.5840\n",
      "Epoch 10/10\n",
      "55432/55432 [==============================] - 137s 2ms/step - loss: 0.0634 - precision: 0.9592 - accuracy: 0.9780 - recall: 0.9592 - true_positives: 697729.0625 - false_positives: 29655.6426 - false_negatives: 29655.6426 - val_loss: 0.1543 - val_precision: 0.9598 - val_accuracy: 0.9542 - val_recall: 0.9598 - val_true_positives: 735441.0000 - val_false_positives: 30811.0156 - val_false_negatives: 30811.0156\n"
     ]
    }
   ],
   "source": [
    "history = model.fit(\n",
    "    x_train,\n",
    "    to_categorical(y_train),\n",
    "    batch_size=batch_size,\n",
    "    epochs=epochs,\n",
    "    verbose=1,\n",
    "    validation_data=(x_valid, to_categorical(y_valid)),\n",
    "    shuffle='batch',\n",
    "    callbacks=callbacks,\n",
    "    use_multiprocessing=True, \n",
    "    workers=8\n",
    ")"
   ]
  },
  {
   "cell_type": "code",
   "execution_count": 12,
   "metadata": {},
   "outputs": [],
   "source": [
    "model.save('eop_' + model_name)"
   ]
  },
  {
   "cell_type": "markdown",
   "metadata": {},
   "source": [
    "# Evaluate the model"
   ]
  },
  {
   "cell_type": "code",
   "execution_count": 13,
   "metadata": {},
   "outputs": [],
   "source": [
    "test_eval = model.evaluate(x_test, to_categorical(y_test), verbose=0)\n",
    "f1_score = f1_score_evaluate(test_eval[2], test_eval[3])"
   ]
  },
  {
   "cell_type": "code",
   "execution_count": 14,
   "metadata": {},
   "outputs": [
    {
     "name": "stdout",
     "output_type": "stream",
     "text": [
      "Test loss: 0.16638017340512234 Precision: 0.9595574140548706 Accuracy: 0.949211061000824 Recall: 0.9595574140548706 TruePositives: 756693.0 FalsePositives: 31891.4375 FalseNegatives: 31891.4375 F1_score 0.9543561466687017 "
     ]
    }
   ],
   "source": [
    "print('Test loss:', test_eval[0],end=' ')\n",
    "print('Precision:', test_eval[1],end=' ')\n",
    "print('Accuracy:', test_eval[2],end=' ')\n",
    "print('Recall:', test_eval[3],end=' ')\n",
    "print('TruePositives:', test_eval[4],end=' ')\n",
    "print('FalsePositives:', test_eval[5],end=' ')\n",
    "print('FalseNegatives:', test_eval[6],end=' ')\n",
    "print('F1_score', f1_score,end=' ')"
   ]
  },
  {
   "cell_type": "markdown",
   "metadata": {},
   "source": [
    "### Predict on model ( real evaluate ) "
   ]
  },
  {
   "cell_type": "code",
   "execution_count": 15,
   "metadata": {},
   "outputs": [],
   "source": [
    "y_pred = model.predict(x_test, verbose=0, workers=8, use_multiprocessing=True)"
   ]
  },
  {
   "cell_type": "code",
   "execution_count": 16,
   "metadata": {},
   "outputs": [
    {
     "name": "stdout",
     "output_type": "stream",
     "text": [
      "My precision tf.Tensor(0.94921106, shape=(), dtype=float32)\n",
      "My recall tf.Tensor(0.94921106, shape=(), dtype=float32)\n"
     ]
    }
   ],
   "source": [
    "print('My precision', my_own_preci(to_categorical(y_test), y_pred))\n",
    "print('My recall', recall(to_categorical(y_test), y_pred))"
   ]
  },
  {
   "cell_type": "markdown",
   "metadata": {},
   "source": [
    "### Graf from training"
   ]
  },
  {
   "cell_type": "code",
   "execution_count": 17,
   "metadata": {},
   "outputs": [
    {
     "name": "stdout",
     "output_type": "stream",
     "text": [
      "Name of model is adaptive_backpropagation332.h5\n"
     ]
    }
   ],
   "source": [
    "print('Name of model is', model_name)"
   ]
  },
  {
   "cell_type": "code",
   "execution_count": 18,
   "metadata": {},
   "outputs": [
    {
     "data": {
      "image/png": "[encoded data removed]",
      "text/plain": [
       "<Figure size 432x288 with 1 Axes>"
      ]
     },
     "metadata": {
      "needs_background": "light"
     },
     "output_type": "display_data"
    },
    {
     "data": {
      "image/png": "[encoded data removed]",
      "text/plain": [
       "<Figure size 432x288 with 1 Axes>"
      ]
     },
     "metadata": {
      "needs_background": "light"
     },
     "output_type": "display_data"
    },
    {
     "data": {
      "image/png": "[encoded data removed]",
      "text/plain": [
       "<Figure size 432x288 with 1 Axes>"
      ]
     },
     "metadata": {
      "needs_background": "light"
     },
     "output_type": "display_data"
    },
    {
     "data": {
      "image/png": "[encoded data removed]",
      "text/plain": [
       "<Figure size 432x288 with 1 Axes>"
      ]
     },
     "metadata": {
      "needs_background": "light"
     },
     "output_type": "display_data"
    },
    {
     "data": {
      "image/png": "[encoded data removed]",
      "text/plain": [
       "<Figure size 432x288 with 1 Axes>"
      ]
     },
     "metadata": {
      "needs_background": "light"
     },
     "output_type": "display_data"
    },
    {
     "data": {
      "image/png": "[encoded data removed]",
      "text/plain": [
       "<Figure size 432x288 with 1 Axes>"
      ]
     },
     "metadata": {
      "needs_background": "light"
     },
     "output_type": "display_data"
    }
   ],
   "source": [
    "import matplotlib.pyplot as plt\n",
    "\n",
    "plt.plot(history.history['accuracy'])\n",
    "plt.plot(history.history['val_accuracy'])\n",
    "plt.title('model accuracy')\n",
    "plt.ylabel('accuracy')\n",
    "plt.xlabel('epoch')\n",
    "plt.legend(['accuracy', 'val_accuracy'], loc='upper left')\n",
    "plt.show()\n",
    "\n",
    "\n",
    "plt.plot(history.history['precision'])\n",
    "plt.plot(history.history['val_precision'])\n",
    "plt.title('val_precision precision')\n",
    "plt.ylabel('val_precision, precision')\n",
    "plt.xlabel('epochs')\n",
    "plt.legend(['val_precision', 'precision'], loc='upper left')\n",
    "plt.show()\n",
    "\n",
    "\n",
    "plt.plot(history.history['recall'])\n",
    "plt.plot(history.history['val_recall'])\n",
    "plt.title('val_recall recall')\n",
    "plt.ylabel('val_recall, recall')\n",
    "plt.xlabel('epochs')\n",
    "plt.legend(['val_recall', 'recall'], loc='upper left')\n",
    "plt.show()\n",
    "\n",
    "plt.plot(history.history['true_positives'])\n",
    "plt.plot(history.history['val_true_positives'])\n",
    "plt.title('val_true_positives true_positives')\n",
    "plt.ylabel('val_true_positives, true_positives')\n",
    "plt.xlabel('epochs')\n",
    "plt.legend(['val_true_positives', 'true_positives'], loc='upper left')\n",
    "plt.show()\n",
    "\n",
    "plt.plot(history.history['false_positives'])\n",
    "plt.plot(history.history['val_false_positives'])\n",
    "plt.title('val_false_positives false_positives')\n",
    "plt.ylabel('val_false_positives, false_positives')\n",
    "plt.xlabel('epochs')\n",
    "plt.legend(['val_false_positives', 'false_positives'], loc='upper left')\n",
    "plt.show()\n",
    "\n",
    "plt.plot(history.history['false_negatives'])\n",
    "plt.plot(history.history['val_false_negatives'])\n",
    "plt.title('val_false_negatives false_negatives')\n",
    "plt.ylabel('val_false_negatives, false_negatives')\n",
    "plt.xlabel('epochs')\n",
    "plt.legend(['val_false_negatives', 'false_negatives'], loc='upper left')\n",
    "plt.show()"
   ]
  },
  {
   "cell_type": "code",
   "execution_count": null,
   "metadata": {
    "scrolled": false
   },
   "outputs": [],
   "source": [
    "true_positives = 0 \n",
    "true_negatives = 0\n",
    "test_positives = 0\n",
    "test_negatives = 0\n",
    "pred_positives = 0\n",
    "pred_negatives = 0\n",
    "\n",
    "for value in to_categorical(y_test):\n",
    "#     print(value)\n",
    "    if value[0] == 0:\n",
    "        test_positives += 1\n",
    "    else:\n",
    "        test_negatives += 1\n",
    "        \n",
    "for value in K.round(K.clip(y_pred, 0, 1)):\n",
    "#     print(value)\n",
    "    if value[0] == 0:\n",
    "        pred_positives += 1\n",
    "    else:\n",
    "        pred_negatives += 1  \n",
    "\n",
    "test_result = []\n",
    "predict_result = []\n",
    "for value in to_categorical(y_test):\n",
    "#     print(value)\n",
    "    if value[0] == 0:\n",
    "        test_result.append(0)\n",
    "    else:\n",
    "        test_result.append(1)\n",
    "        \n",
    "for value in K.round(K.clip(y_pred, 0, 1)):\n",
    "#     print(value)\n",
    "    if value[0] == 0:\n",
    "        predict_result.append(0)\n",
    "    else:\n",
    "        predict_result.append(1)\n",
    "        \n",
    "for index, value in enumerate(predict_result):\n",
    "    if test_result[index] is value:\n",
    "        if test_result[index] is 0:\n",
    "            true_positives += 1\n",
    "        else:\n",
    "            true_negatives += 1\n",
    "            \n"
   ]
  },
  {
   "cell_type": "code",
   "execution_count": 31,
   "metadata": {},
   "outputs": [
    {
     "name": "stdout",
     "output_type": "stream",
     "text": [
      "true_positives 6678\n",
      "true_negatives 14497\n",
      "test_positives 7731\n",
      "test_negatives 14577\n",
      "pred_positives 6758\n",
      "pred_negatives 15550\n"
     ]
    }
   ],
   "source": [
    "print('true_positives', true_positives)\n",
    "print('true_negatives', true_negatives)\n",
    "\n",
    "print('test_positives', test_positives)\n",
    "print('test_negatives', test_negatives)\n",
    "\n",
    "print('pred_positives', pred_positives)\n",
    "print('pred_negatives', pred_negatives)"
   ]
  },
  {
   "cell_type": "markdown",
   "metadata": {},
   "source": [
    "## Load model"
   ]
  },
  {
   "cell_type": "code",
   "execution_count": 46,
   "metadata": {},
   "outputs": [],
   "source": [
    "custom_objects = {}\n",
    "custom_objects[\"precision\"] = 'tensorflow.keras.metrics.Precision'\n",
    "custom_objects[\"recall\"] = 'tensorflow.keras.metrics.Recall'\n",
    "custom_objects[\"true_positives\"] = 'tensorflow.keras.metrics.TruePositives'\n",
    "custom_objects[\"false_positives\"] = 'tensorflow.keras.metrics.FalsePositives'\n",
    "custom_objects[\"false_negatives\"] = 'tensorflow.keras.metrics.FalseNegatives'\n",
    "\n",
    "\n",
    "# loaded_model = tf.keras.models.load_model('adaptive_autoencoder764.h5', custom_objects=custom_objects)\n",
    "loaded_model = tf.keras.models.load_model('adaptive_gabor964.h5', custom_objects=custom_objects)\n",
    "# loaded_model = tf.keras.models.load_model('adaptive_backpropagation732.h5', custom_objects=custom_objects)"
   ]
  },
  {
   "cell_type": "markdown",
   "metadata": {},
   "source": [
    "## Vizualize filters"
   ]
  },
  {
   "cell_type": "code",
   "execution_count": null,
   "metadata": {
    "scrolled": false
   },
   "outputs": [],
   "source": [
    "x1w = model.layers[1].get_weights()[0][:,:,0,:]\n",
    "for i in range(1,5):\n",
    "    pl.subplot(2,2,i)\n",
    "    pl.imshow(x1w[:,:,i],interpolation=\"nearest\",cmap=\"gray\")\n",
    "pl.show()\n",
    "for i in range(1,5):\n",
    "    pl.subplot(2,2,i)\n",
    "    pl.imshow(x1w[:,:,i + 10],interpolation=\"nearest\",cmap=\"gray\")\n",
    "pl.show()\n",
    "for i in range(1,5):\n",
    "    pl.subplot(2,2,i)\n",
    "    pl.imshow(x1w[:,:,i + 20],interpolation=\"nearest\",cmap=\"gray\")\n",
    "pl.show()\n",
    "for i in range(1,5):\n",
    "    pl.subplot(2,2,i)\n",
    "    pl.imshow(x1w[:,:,i + 30],interpolation=\"nearest\",cmap=\"gray\")\n",
    "pl.show()\n",
    "# loaded_model.layers[1].get_weights()[0]"
   ]
  }
 ],
 "metadata": {
  "kernelspec": {
   "display_name": "Python 3",
   "language": "python",
   "name": "python3"
  },
  "language_info": {
   "codemirror_mode": {
    "name": "ipython",
    "version": 3
   },
   "file_extension": ".py",
   "mimetype": "text/x-python",
   "name": "python",
   "nbconvert_exporter": "python",
   "pygments_lexer": "ipython3",
   "version": "3.7.4"
  },
  "pycharm": {
   "stem_cell": {
    "cell_type": "raw",
    "metadata": {
     "collapsed": false
    },
    "source": []
   }
  }
 },
 "nbformat": 4,
 "nbformat_minor": 4
}
