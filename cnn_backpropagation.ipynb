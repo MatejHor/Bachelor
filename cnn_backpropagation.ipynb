{
 "cells": [
  {
   "cell_type": "code",
   "execution_count": 51,
   "metadata": {
    "jupyter": {
     "outputs_hidden": false
    },
    "pycharm": {
     "is_executing": false,
     "name": "#%%\n"
    }
   },
   "outputs": [],
   "source": [
    "from keras.utils import HDF5Matrix\n",
    "from keras.preprocessing.image import ImageDataGenerator\n",
    "from keras.models import Model\n",
    "from keras.utils import to_categorical\n",
    "from keras import backend as K\n",
    "from keras.layers import Input, Dense, BatchNormalization, Dropout, Conv2D, MaxPool2D, Flatten, LeakyReLU, Concatenate, UpSampling2D\n",
    "from IPython.display import Image\n",
    "\n",
    "import keras\n",
    "import tensorflow.compat.v1 as tf\n",
    "import numpy as np\n",
    "import pandas as pd\n",
    "import imageio\n",
    "import cv2\n",
    "\n",
    "import pprint\n",
    "\n",
    "\n",
    "import src.model as my_model\n",
    "import src.pcam_loader as data\n",
    "import src.adaptive_model as am"
   ]
  },
  {
   "cell_type": "markdown",
   "metadata": {
    "pycharm": {
     "name": "#%% md\n"
    }
   },
   "source": [
    "# Show if tensorflow can run with GPU\n",
    "# Run tensorflow keras on multiple core"
   ]
  },
  {
   "cell_type": "code",
   "execution_count": 2,
   "metadata": {
    "pycharm": {
     "is_executing": false,
     "name": "#%%\n"
    }
   },
   "outputs": [
    {
     "name": "stdout",
     "output_type": "stream",
     "text": [
      "[name: \"/device:CPU:0\"\n",
      "device_type: \"CPU\"\n",
      "memory_limit: 268435456\n",
      "locality {\n",
      "}\n",
      "incarnation: 554293951874153267\n",
      ", name: \"/device:GPU:0\"\n",
      "device_type: \"GPU\"\n",
      "memory_limit: 4854028697\n",
      "locality {\n",
      "  bus_id: 1\n",
      "  links {\n",
      "  }\n",
      "}\n",
      "incarnation: 7473368364681308226\n",
      "physical_device_desc: \"device: 0, name: GeForce GTX 1660 Ti, pci bus id: 0000:26:00.0, compute capability: 7.5\"\n",
      "]\n",
      "Device mapping:\n",
      "/job:localhost/replica:0/task:0/device:GPU:0 -> device: 0, name: GeForce GTX 1660 Ti, pci bus id: 0000:26:00.0, compute capability: 7.5\n",
      "\n"
     ]
    }
   ],
   "source": [
    "from tensorflow.python.client import device_lib\n",
    "print(device_lib.list_local_devices())\n",
    "\n",
    "# config = tf.ConfigProto(device_count={\"CPU\": 8})\n",
    "# tensorflow.compat.v1.keras.backend.set_session(tf.Session(config=config))\n",
    "sess = tf.Session(config=tf.ConfigProto(log_device_placement=True))\n"
   ]
  },
  {
   "cell_type": "markdown",
   "metadata": {
    "pycharm": {
     "name": "#%% md\n"
    }
   },
   "source": [
    "## Load pcam data"
   ]
  },
  {
   "cell_type": "code",
   "execution_count": 3,
   "metadata": {
    "pycharm": {
     "is_executing": false,
     "name": "#%%\n"
    }
   },
   "outputs": [
    {
     "name": "stderr",
     "output_type": "stream",
     "text": [
      "C:\\Users\\matho\\anaconda3\\lib\\site-packages\\keras\\utils\\io_utils.py:60: H5pyDeprecationWarning: The default file mode will change to 'r' (read-only) in h5py 3.0. To suppress this warning, pass the mode you need to h5py.File(), or set the global default h5.get_config().default_file_mode, or set the environment variable H5PY_DEFAULT_READONLY=1. Available modes are: 'r', 'r+', 'w', 'w-'/'x', 'a'. See the docs for details.\n",
      "  f = h5py.File(datapath)\n"
     ]
    }
   ],
   "source": [
    "# Load data from /User/Username/.keras/datasets/pcam\n",
    "dataset = data.load_data()\n",
    "x_train, y_train, meta_train =  dataset[0]\n",
    "x_valid, y_valid, meta_valid =  dataset[1]\n",
    "x_test, y_test, meta_test =  dataset[2]"
   ]
  },
  {
   "cell_type": "code",
   "execution_count": 4,
   "metadata": {
    "pycharm": {
     "is_executing": false,
     "name": "#%%\n"
    }
   },
   "outputs": [],
   "source": [
    "y_train = np.array(y_train[:])\n",
    "y_train = y_train.reshape(-1, 1)\n",
    "y_valid = np.array(y_valid[:])\n",
    "y_valid = y_valid.reshape(-1, 1)\n",
    "y_test = np.array(y_test[:])\n",
    "y_test = y_test.reshape(-1, 1)"
   ]
  },
  {
   "cell_type": "code",
   "execution_count": 5,
   "metadata": {
    "pycharm": {
     "is_executing": false,
     "name": "#%%\n"
    }
   },
   "outputs": [
    {
     "data": {
      "image/png": "[encoded data removed]",
      "text/plain": [
       "<IPython.core.display.Image object>"
      ]
     },
     "execution_count": 5,
     "metadata": {},
     "output_type": "execute_result"
    }
   ],
   "source": [
    "# Save data into png format and visualize image\n",
    "# imageio.imwrite('image.png', )\n",
    "Image(filename='./data/image.png') "
   ]
  },
  {
   "cell_type": "code",
   "execution_count": 6,
   "metadata": {
    "pycharm": {
     "is_executing": false,
     "name": "#%%\n"
    }
   },
   "outputs": [
    {
     "name": "stdout",
     "output_type": "stream",
     "text": [
      "   Unnamed: 0  coord_y  coord_x  tumor_patch  center_tumor_patch  \\\n",
      "0           0    63104    43648        False               False   \n",
      "1           1   148544    74048         True                True   \n",
      "2           2    64192    78912         True                True   \n",
      "3           3    98048    72128         True                True   \n",
      "4           4    27264    50688        False               False   \n",
      "\n",
      "                           wsi  \n",
      "0   camelyon16_train_tumor_104  \n",
      "1   camelyon16_train_tumor_003  \n",
      "2   camelyon16_train_tumor_089  \n",
      "3   camelyon16_train_tumor_004  \n",
      "4  camelyon16_train_normal_118   \n",
      "\n",
      "<class 'pandas.core.frame.DataFrame'>\n",
      "RangeIndex: 262144 entries, 0 to 262143\n",
      "Data columns (total 6 columns):\n",
      " #   Column              Non-Null Count   Dtype \n",
      "---  ------              --------------   ----- \n",
      " 0   Unnamed: 0          262144 non-null  int64 \n",
      " 1   coord_y             262144 non-null  int64 \n",
      " 2   coord_x             262144 non-null  int64 \n",
      " 3   tumor_patch         262144 non-null  bool  \n",
      " 4   center_tumor_patch  262144 non-null  bool  \n",
      " 5   wsi                 262144 non-null  object\n",
      "dtypes: bool(2), int64(3), object(1)\n",
      "memory usage: 8.5+ MB\n",
      "None\n",
      "\n",
      "Shape of train (262144, 96, 96, 3) 262144 (262144, 1)\n",
      "Shape of valid (32768, 96, 96, 3) 32768 (32768, 1)\n",
      "Shape of test (32768, 96, 96, 3) 32768 (32768, 1)\n"
     ]
    }
   ],
   "source": [
    "print(meta_train.head(5), '\\n')\n",
    "print(meta_train.info())\n",
    "\n",
    "# Shape of train, valid and test input are the same, don't need to preprocess\n",
    "print('\\n' + 'Shape of train', x_train.shape,  len(y_train), y_train.shape)\n",
    "print('Shape of valid', x_valid.shape,  len(y_valid), y_valid.shape)\n",
    "print('Shape of test', x_test.shape, len(y_test), y_test.shape)\n"
   ]
  },
  {
   "cell_type": "markdown",
   "metadata": {
    "pycharm": {
     "name": "#%% md\n"
    }
   },
   "source": [
    "## Build model"
   ]
  },
  {
   "cell_type": "code",
   "execution_count": 7,
   "metadata": {
    "pycharm": {
     "is_executing": false,
     "name": "#%%\n"
    }
   },
   "outputs": [],
   "source": [
    "batch_size = 64\n",
    "epochs = 10\n",
    "num_classes = 2\n",
    "shape = (96, 96, 3)"
   ]
  },
  {
   "cell_type": "code",
   "execution_count": 8,
   "metadata": {
    "pycharm": {
     "is_executing": false,
     "name": "#%%\n"
    }
   },
   "outputs": [],
   "source": [
    "# Model with 3CNN 2(3,3)1(5,5) droupout accurancy 74,9%\n",
    "# Model with 3CNN 2(3,3) droupout accurancy 73% on test 50%\n",
    "# Model without droupout and 3CNN accurancy 72,29%\n",
    "# Model with 5CNNN droupout accurany 63%\n",
    "# Model with 5CNN 2(3,3)2(5,5) droupout accurancy %\n",
    "# Model with 2CNN 16(3,3)32(3,3) accurancy 74,6%\n",
    "# Model with 2CNN 64(3,3)64(3,3) accurancy 74,6%\n",
    "# Simple CNN with 5 Convolutional layers and 2 Full connected layers, dropout\n",
    "\n",
    "# input_layer = Input(shape=shape)\n",
    "\n",
    "# conv1 = Conv2D(128, (3, 3), padding='same', activation='linear')(input_layer)\n",
    "# conv1 = LeakyReLU(alpha=0.1)(conv1)\n",
    "# conv1 = MaxPool2D((2, 2))(conv1)\n",
    "# conv1 = Dropout(0.25)(conv1)\n",
    "\n",
    "# conv2 = Conv2D(256, (3, 3), padding='same', activation='linear')(conv1)\n",
    "# conv2 = LeakyReLU(alpha=0.1)(conv2)\n",
    "# conv2 = MaxPool2D((2, 2))(conv2)\n",
    "# conv2 = Dropout(0.25)(conv2)\n",
    "\n",
    "# conv3 = Conv2D(512, (3, 3), padding='same', activation='linear')(conv2)\n",
    "# conv3 = LeakyReLU(alpha=0.1)(conv3)\n",
    "# conv3 = MaxPool2D((2, 2))(conv3)\n",
    "# conv3 = Dropout(0.25)(conv3)\n",
    "\n",
    "# conv4 = Conv2D(64, (5, 5), padding='same', activation='linear')(conv3)\n",
    "# conv4 = LeakyReLU(alpha=0.1)(conv4)\n",
    "# conv4 = MaxPool2D((2, 2))(conv4)\n",
    "# conv4 = Dropout(0.25)(conv4)\n",
    "\n",
    "# conv5 = Conv2D(64, (7, 7), padding='same', activation='linear')(conv4)\n",
    "# conv5 = LeakyReLU(alpha=0.1)(conv5)\n",
    "# conv5 = MaxPool2D((2, 2))(conv5)\n",
    "# conv5 = Dropout(0.25)(conv5)\n",
    "\n",
    "# dense = Flatten()(conv5)\n",
    "# dense = Dense(128, activation='linear')(dense)\n",
    "# dense = LeakyReLU(alpha=0.1)(dense)\n",
    "# # dense = Dense(128, activation='linear')(dense)\n",
    "# # dense = LeakyReLU(alpha=0.1)(dense)\n",
    "\n",
    "# output = Dense(num_classes, activation='softmax')(dense)\n",
    "\n",
    "# model = Model(input=[input_layer], output=[output])\n"
   ]
  },
  {
   "cell_type": "code",
   "execution_count": 9,
   "metadata": {
    "pycharm": {
     "is_executing": false,
     "name": "#%%\n"
    }
   },
   "outputs": [
    {
     "data": {
      "image/png": "[encoded data removed]",
      "text/plain": [
       "<IPython.core.display.Image object>"
      ]
     },
     "execution_count": 9,
     "metadata": {},
     "output_type": "execute_result"
    }
   ],
   "source": [
    "# Model CNN1 accurancy 73% on test on valid 90%\n",
    "# Model CNN1 with one per layer dropout 66% on valid 90%\n",
    "# Model CNN1 with droupout per convolutional layer 71% on valid 89%\n",
    "# model = my_model.cnn1(shape, num_classes)\n",
    "Image(filename='./data/cnn1.png')\n",
    "\n",
    "# VGG 16 with 13 CNN on valid 50% on test 50%\n",
    "# from \n",
    "# model = my_model.vgg_16(shape, 2)\n",
    "\n",
    "# Unet with 9 convolution layer accurancy on test 80% on valid 96%\n",
    "# from https://github.com/hlamba28/UNET-TGS/blob/master/TGS%20UNET.ipynb\n",
    "# model = my_model.get_unet(shape)"
   ]
  },
  {
   "cell_type": "code",
   "execution_count": 76,
   "metadata": {},
   "outputs": [
    {
     "ename": "TypeError",
     "evalue": "('Keyword argument not understood:', 'weight_filler')",
     "output_type": "error",
     "traceback": [
      "\u001b[1;31m---------------------------------------------------------------------------\u001b[0m",
      "\u001b[1;31mTypeError\u001b[0m                                 Traceback (most recent call last)",
      "\u001b[1;32m<ipython-input-76-62bb86540d45>\u001b[0m in \u001b[0;36m<module>\u001b[1;34m\u001b[0m\n\u001b[0;32m     46\u001b[0m     \u001b[1;32mreturn\u001b[0m \u001b[0mlayer\u001b[0m\u001b[1;33m\u001b[0m\u001b[1;33m\u001b[0m\u001b[0m\n\u001b[0;32m     47\u001b[0m \u001b[1;33m\u001b[0m\u001b[0m\n\u001b[1;32m---> 48\u001b[1;33m \u001b[0mgabor_layer\u001b[0m\u001b[1;33m(\u001b[0m\u001b[0mam\u001b[0m\u001b[1;33m.\u001b[0m\u001b[0minput_layer\u001b[0m\u001b[1;33m(\u001b[0m\u001b[0mshape\u001b[0m\u001b[1;33m)\u001b[0m\u001b[1;33m)\u001b[0m\u001b[1;33m\u001b[0m\u001b[1;33m\u001b[0m\u001b[0m\n\u001b[0m",
      "\u001b[1;32m<ipython-input-76-62bb86540d45>\u001b[0m in \u001b[0;36mgabor_layer\u001b[1;34m(layer)\u001b[0m\n\u001b[0;32m     43\u001b[0m \u001b[1;33m\u001b[0m\u001b[0m\n\u001b[0;32m     44\u001b[0m \u001b[1;32mdef\u001b[0m \u001b[0mgabor_layer\u001b[0m\u001b[1;33m(\u001b[0m\u001b[0mlayer\u001b[0m\u001b[1;33m)\u001b[0m\u001b[1;33m:\u001b[0m\u001b[1;33m\u001b[0m\u001b[1;33m\u001b[0m\u001b[0m\n\u001b[1;32m---> 45\u001b[1;33m     \u001b[0mlayer\u001b[0m \u001b[1;33m=\u001b[0m \u001b[0mConv2D\u001b[0m\u001b[1;33m(\u001b[0m\u001b[0mfilters\u001b[0m\u001b[1;33m=\u001b[0m\u001b[1;36m1\u001b[0m\u001b[1;33m,\u001b[0m \u001b[0mkernel_size\u001b[0m \u001b[1;33m=\u001b[0m \u001b[1;36m3\u001b[0m\u001b[1;33m,\u001b[0m \u001b[0mweight_filler\u001b[0m\u001b[1;33m=\u001b[0m\u001b[1;33m{\u001b[0m\u001b[0mtype\u001b[0m\u001b[1;33m:\u001b[0m \u001b[1;34m\"gabor\"\u001b[0m\u001b[1;33m}\u001b[0m\u001b[1;33m,\u001b[0m \u001b[0mstrides\u001b[0m\u001b[1;33m=\u001b[0m\u001b[1;36m2\u001b[0m\u001b[1;33m,\u001b[0m \u001b[0mpadding\u001b[0m\u001b[1;33m=\u001b[0m\u001b[1;34m'valid'\u001b[0m\u001b[1;33m)\u001b[0m\u001b[1;33m(\u001b[0m\u001b[0mlayer\u001b[0m\u001b[1;33m)\u001b[0m\u001b[1;33m\u001b[0m\u001b[1;33m\u001b[0m\u001b[0m\n\u001b[0m\u001b[0;32m     46\u001b[0m     \u001b[1;32mreturn\u001b[0m \u001b[0mlayer\u001b[0m\u001b[1;33m\u001b[0m\u001b[1;33m\u001b[0m\u001b[0m\n\u001b[0;32m     47\u001b[0m \u001b[1;33m\u001b[0m\u001b[0m\n",
      "\u001b[1;32m~\\anaconda3\\lib\\site-packages\\keras\\legacy\\interfaces.py\u001b[0m in \u001b[0;36mwrapper\u001b[1;34m(*args, **kwargs)\u001b[0m\n\u001b[0;32m     89\u001b[0m                 warnings.warn('Update your `' + object_name + '` call to the ' +\n\u001b[0;32m     90\u001b[0m                               'Keras 2 API: ' + signature, stacklevel=2)\n\u001b[1;32m---> 91\u001b[1;33m             \u001b[1;32mreturn\u001b[0m \u001b[0mfunc\u001b[0m\u001b[1;33m(\u001b[0m\u001b[1;33m*\u001b[0m\u001b[0margs\u001b[0m\u001b[1;33m,\u001b[0m \u001b[1;33m**\u001b[0m\u001b[0mkwargs\u001b[0m\u001b[1;33m)\u001b[0m\u001b[1;33m\u001b[0m\u001b[1;33m\u001b[0m\u001b[0m\n\u001b[0m\u001b[0;32m     92\u001b[0m         \u001b[0mwrapper\u001b[0m\u001b[1;33m.\u001b[0m\u001b[0m_original_function\u001b[0m \u001b[1;33m=\u001b[0m \u001b[0mfunc\u001b[0m\u001b[1;33m\u001b[0m\u001b[1;33m\u001b[0m\u001b[0m\n\u001b[0;32m     93\u001b[0m         \u001b[1;32mreturn\u001b[0m \u001b[0mwrapper\u001b[0m\u001b[1;33m\u001b[0m\u001b[1;33m\u001b[0m\u001b[0m\n",
      "\u001b[1;32m~\\anaconda3\\lib\\site-packages\\keras\\layers\\convolutional.py\u001b[0m in \u001b[0;36m__init__\u001b[1;34m(self, filters, kernel_size, strides, padding, data_format, dilation_rate, activation, use_bias, kernel_initializer, bias_initializer, kernel_regularizer, bias_regularizer, activity_regularizer, kernel_constraint, bias_constraint, **kwargs)\u001b[0m\n\u001b[0;32m    482\u001b[0m             \u001b[0mkernel_constraint\u001b[0m\u001b[1;33m=\u001b[0m\u001b[0mkernel_constraint\u001b[0m\u001b[1;33m,\u001b[0m\u001b[1;33m\u001b[0m\u001b[1;33m\u001b[0m\u001b[0m\n\u001b[0;32m    483\u001b[0m             \u001b[0mbias_constraint\u001b[0m\u001b[1;33m=\u001b[0m\u001b[0mbias_constraint\u001b[0m\u001b[1;33m,\u001b[0m\u001b[1;33m\u001b[0m\u001b[1;33m\u001b[0m\u001b[0m\n\u001b[1;32m--> 484\u001b[1;33m             **kwargs)\n\u001b[0m\u001b[0;32m    485\u001b[0m \u001b[1;33m\u001b[0m\u001b[0m\n\u001b[0;32m    486\u001b[0m     \u001b[1;32mdef\u001b[0m \u001b[0mget_config\u001b[0m\u001b[1;33m(\u001b[0m\u001b[0mself\u001b[0m\u001b[1;33m)\u001b[0m\u001b[1;33m:\u001b[0m\u001b[1;33m\u001b[0m\u001b[1;33m\u001b[0m\u001b[0m\n",
      "\u001b[1;32m~\\anaconda3\\lib\\site-packages\\keras\\layers\\convolutional.py\u001b[0m in \u001b[0;36m__init__\u001b[1;34m(self, rank, filters, kernel_size, strides, padding, data_format, dilation_rate, activation, use_bias, kernel_initializer, bias_initializer, kernel_regularizer, bias_regularizer, activity_regularizer, kernel_constraint, bias_constraint, **kwargs)\u001b[0m\n\u001b[0;32m    103\u001b[0m                  \u001b[0mbias_constraint\u001b[0m\u001b[1;33m=\u001b[0m\u001b[1;32mNone\u001b[0m\u001b[1;33m,\u001b[0m\u001b[1;33m\u001b[0m\u001b[1;33m\u001b[0m\u001b[0m\n\u001b[0;32m    104\u001b[0m                  **kwargs):\n\u001b[1;32m--> 105\u001b[1;33m         \u001b[0msuper\u001b[0m\u001b[1;33m(\u001b[0m\u001b[0m_Conv\u001b[0m\u001b[1;33m,\u001b[0m \u001b[0mself\u001b[0m\u001b[1;33m)\u001b[0m\u001b[1;33m.\u001b[0m\u001b[0m__init__\u001b[0m\u001b[1;33m(\u001b[0m\u001b[1;33m**\u001b[0m\u001b[0mkwargs\u001b[0m\u001b[1;33m)\u001b[0m\u001b[1;33m\u001b[0m\u001b[1;33m\u001b[0m\u001b[0m\n\u001b[0m\u001b[0;32m    106\u001b[0m         \u001b[0mself\u001b[0m\u001b[1;33m.\u001b[0m\u001b[0mrank\u001b[0m \u001b[1;33m=\u001b[0m \u001b[0mrank\u001b[0m\u001b[1;33m\u001b[0m\u001b[1;33m\u001b[0m\u001b[0m\n\u001b[0;32m    107\u001b[0m         \u001b[0mself\u001b[0m\u001b[1;33m.\u001b[0m\u001b[0mfilters\u001b[0m \u001b[1;33m=\u001b[0m \u001b[0mfilters\u001b[0m\u001b[1;33m\u001b[0m\u001b[1;33m\u001b[0m\u001b[0m\n",
      "\u001b[1;32m~\\anaconda3\\lib\\site-packages\\keras\\engine\\base_layer.py\u001b[0m in \u001b[0;36m__init__\u001b[1;34m(self, **kwargs)\u001b[0m\n\u001b[0;32m    145\u001b[0m         \u001b[1;32mfor\u001b[0m \u001b[0mkwarg\u001b[0m \u001b[1;32min\u001b[0m \u001b[0mkwargs\u001b[0m\u001b[1;33m:\u001b[0m\u001b[1;33m\u001b[0m\u001b[1;33m\u001b[0m\u001b[0m\n\u001b[0;32m    146\u001b[0m             \u001b[1;32mif\u001b[0m \u001b[0mkwarg\u001b[0m \u001b[1;32mnot\u001b[0m \u001b[1;32min\u001b[0m \u001b[0mallowed_kwargs\u001b[0m\u001b[1;33m:\u001b[0m\u001b[1;33m\u001b[0m\u001b[1;33m\u001b[0m\u001b[0m\n\u001b[1;32m--> 147\u001b[1;33m                 \u001b[1;32mraise\u001b[0m \u001b[0mTypeError\u001b[0m\u001b[1;33m(\u001b[0m\u001b[1;34m'Keyword argument not understood:'\u001b[0m\u001b[1;33m,\u001b[0m \u001b[0mkwarg\u001b[0m\u001b[1;33m)\u001b[0m\u001b[1;33m\u001b[0m\u001b[1;33m\u001b[0m\u001b[0m\n\u001b[0m\u001b[0;32m    148\u001b[0m         \u001b[0mname\u001b[0m \u001b[1;33m=\u001b[0m \u001b[0mkwargs\u001b[0m\u001b[1;33m.\u001b[0m\u001b[0mget\u001b[0m\u001b[1;33m(\u001b[0m\u001b[1;34m'name'\u001b[0m\u001b[1;33m)\u001b[0m\u001b[1;33m\u001b[0m\u001b[1;33m\u001b[0m\u001b[0m\n\u001b[0;32m    149\u001b[0m         \u001b[1;32mif\u001b[0m \u001b[1;32mnot\u001b[0m \u001b[0mname\u001b[0m\u001b[1;33m:\u001b[0m\u001b[1;33m\u001b[0m\u001b[1;33m\u001b[0m\u001b[0m\n",
      "\u001b[1;31mTypeError\u001b[0m: ('Keyword argument not understood:', 'weight_filler')"
     ]
    }
   ],
   "source": [
    "def gabor_filter(shape, dtype=None):\n",
    "    filters = []\n",
    "    kernels = []\n",
    "    ksize = shape[0]\n",
    "    for theta in np.arange(0, np.pi, np.pi / shape[3]):\n",
    "        params = {'ksize':(ksize, ksize), 'sigma':1.0, 'theta':theta, 'lambd':15.0,\n",
    "                  'gamma':0.02, 'psi':0, 'ktype':cv2.CV_32F}\n",
    "        kernel = cv2.getGaborKernel(**params)\n",
    "        kernel /= 1.5*kernel.sum()\n",
    "        \n",
    "        kernels.append(kernel)\n",
    "        print(kernels[0])\n",
    "            \n",
    "#     first_shape = []\n",
    "#     for first in kernels:\n",
    "#         second_shape = []\n",
    "#         for second in first:\n",
    "#             third_shape = []\n",
    "#             for third in range(color_channels):\n",
    "#                 fourth_shape = []\n",
    "#                 for fourth in range(shape[3]):\n",
    "#                         fourth_shape.append(second)\n",
    "#                 print(fourth_shape)\n",
    "#                 third_shape.append(fourth_shape)\n",
    "#             second_shape.append(third_shape)\n",
    "#         first_shape.append(second_shape)\n",
    "#     reshaped_kernel = np.array(first_shape)\n",
    "#     filters.append(reshaped_kernel)\n",
    "    first_shape = []\n",
    "    for first in range(len(kernels[0])):\n",
    "        for second in range(len(kernels[0][first])):\n",
    "            print(kernels[0][first][second])\n",
    "    \n",
    "    print('Needed shape is', shape, reshaped_kernel.shape)\n",
    "    return K.variable(filters, dtype='float32')\n",
    "\n",
    "#     f = np.array([\n",
    "#             [[[1],[1],[1]], [[0],[0],[0]], [[-1],[-1],[-1]]],\n",
    "#             [[[1],[1],[1]], [[0],[0],[0]], [[-1],[-1],[-1]]],\n",
    "#             [[[1],[1],[1]], [[0],[0],[0]], [[-1],[-1],[-1]]]\n",
    "#         ])\n",
    "\n",
    "weight_filler {type: \"gabor\"}\n",
    "def gabor_layer(layer):\n",
    "    layer = Conv2D(filters=1, kernel_size = 3, kernel_initializer=gabor_filter, strides=2, padding='valid')(layer)\n",
    "    return layer\n",
    "\n",
    "gabor_layer(am.input_layer(shape))"
   ]
  },
  {
   "cell_type": "code",
   "execution_count": null,
   "metadata": {},
   "outputs": [],
   "source": [
    "# Input layer with shape of data\n",
    "input_layer = am.input_layer(shape)\n",
    "\n",
    "## Define first layer as Gabor, BackPropagation(unet) and AutoEncoder(encoder)\n",
    "# layers = am.unet_layer(input_layer) # 78,8% on test\n",
    "# layers = am.encoder_concatenate_layer(input_layer) # on valid 96,97% on test 67%\n",
    "# layers = am.encoder_multiple_upsampling_layer(input_layer) # on test 74,% on valid 97,7%\n",
    "layers = gabor_layer(input_layer)\n",
    "\n",
    "# Use Unet architecture as main model\n",
    "output_layer = am.unet_model(input_layer)\n",
    "\n",
    "# Define model \n",
    "model = am.define_model(input_layer, output_layer)"
   ]
  },
  {
   "cell_type": "markdown",
   "metadata": {
    "pycharm": {
     "name": "#%% md\n"
    }
   },
   "source": [
    "### Compile and train the model"
   ]
  },
  {
   "cell_type": "code",
   "execution_count": null,
   "metadata": {
    "pycharm": {
     "name": "#%%\n"
    }
   },
   "outputs": [],
   "source": [
    "model.compile(loss=keras.losses.categorical_crossentropy,\n",
    "                      optimizer=keras.optimizers.Adam(),metrics=['accuracy', 'cosine_proximity'])\n",
    "\n",
    "model.summary()"
   ]
  },
  {
   "cell_type": "code",
   "execution_count": null,
   "metadata": {
    "pycharm": {
     "name": "#%%\n"
    }
   },
   "outputs": [],
   "source": [
    "model.fit(\n",
    "    x_train,\n",
    "    to_categorical(y_train),\n",
    "    # batch_size=batch_size,\n",
    "    epochs=epochs,\n",
    "    verbose=1,\n",
    "    validation_data=(x_valid, to_categorical(y_valid)),\n",
    "    shuffle='batch',\n",
    "    # Add multiprocessing and workers\n",
    "    use_multiprocessing=True, \n",
    "    workers=8\n",
    ")"
   ]
  },
  {
   "cell_type": "code",
   "execution_count": null,
   "metadata": {},
   "outputs": [],
   "source": [
    "model.save('adaptive_model_ECL.h5')"
   ]
  },
  {
   "cell_type": "code",
   "execution_count": null,
   "metadata": {},
   "outputs": [],
   "source": [
    "from keras.models import load_model\n",
    "model = load_model('adaptive_model_ECL.h5')"
   ]
  },
  {
   "cell_type": "code",
   "execution_count": null,
   "metadata": {
    "pycharm": {
     "is_executing": false,
     "name": "#%%\n"
    }
   },
   "outputs": [],
   "source": [
    "test_eval = model.evaluate(x_test, to_categorical(y_test), verbose=0)\n",
    "print('Test loss:', test_eval[0])\n",
    "print('Test accuracy:', test_eval[1])\n"
   ]
  }
 ],
 "metadata": {
  "kernelspec": {
   "display_name": "PyCharm (Bachelor)",
   "language": "python",
   "name": "pycharm-d3bc82fa"
  },
  "language_info": {
   "codemirror_mode": {
    "name": "ipython",
    "version": 3
   },
   "file_extension": ".py",
   "mimetype": "text/x-python",
   "name": "python",
   "nbconvert_exporter": "python",
   "pygments_lexer": "ipython3",
   "version": "3.7.4"
  },
  "pycharm": {
   "stem_cell": {
    "cell_type": "raw",
    "metadata": {
     "collapsed": false
    },
    "source": []
   }
  }
 },
 "nbformat": 4,
 "nbformat_minor": 4
}
